{
 "cells": [
  {
   "cell_type": "markdown",
   "metadata": {},
   "source": [
    "1. Considere el siguiente arreglo que contiene la altura de un grupo de estudiantes de Henry y calcule:"
   ]
  },
  {
   "cell_type": "code",
   "execution_count": 1,
   "metadata": {},
   "outputs": [],
   "source": [
    "import numpy as np # importando numpy\n",
    "from scipy import stats # importando scipy.stats\n",
    "import pandas as pd #importando pandas\n",
    "import matplotlib.pyplot as plt # importando matplotlib\n",
    "import seaborn as sns # importando seaborn"
   ]
  },
  {
   "cell_type": "code",
   "execution_count": 2,
   "metadata": {},
   "outputs": [],
   "source": [
    "muestra = np.array( [[1.85, 1.8, 1.8 , 1.8],\n",
    "                    [ 1.73, 1.7, 1.75, 1.76],\n",
    "                    [ 1.65, 1.69,1.67, 1.6],\n",
    "                    [ 1.54, 1.57,1.58, 1.59],\n",
    "                    [ 1.4 , 1.42,1.45, 1.48]]) "
   ]
  },
  {
   "cell_type": "markdown",
   "metadata": {},
   "source": [
    "- Media.\n",
    "- Mediana.\n",
    "- Moda.\n",
    "- Varianza.\n",
    "- Desvío estándar."
   ]
  },
  {
   "cell_type": "code",
   "execution_count": 3,
   "metadata": {},
   "outputs": [
    {
     "name": "stdout",
     "output_type": "stream",
     "text": [
      "Media: 1.6415\n",
      "Mediana: 1.66\n",
      "Moda: 1.8, se repite 3 veces\n",
      "Varianza: 0.017642750000000006\n",
      "Desviación estándar: 0.13282601401833907\n"
     ]
    }
   ],
   "source": [
    "print(f\"Media: {np.mean(muestra)}\")\n",
    "print(f\"Mediana: {np.median(muestra)}\")\n",
    "print(f\"Moda: {stats.mode(muestra.flatten(),keepdims=False)[0]}, se repite {stats.mode(muestra.flatten(),keepdims=False)[1]} veces\")\n",
    "print(f\"Varianza: {np.var(muestra)}\")\n",
    "print(f\"Desviación estándar: {np.std(muestra)}\")"
   ]
  },
  {
   "cell_type": "markdown",
   "metadata": {},
   "source": [
    "2. Convierta el arreglo en una lista y realice un Histograma de 5 intervalos. ¿Tiene distribución normal?."
   ]
  },
  {
   "cell_type": "code",
   "execution_count": 4,
   "metadata": {},
   "outputs": [
    {
     "data": {
      "image/png": "[encoded data removed]",
      "text/plain": [
       "<Figure size 432x288 with 1 Axes>"
      ]
     },
     "metadata": {
      "needs_background": "light"
     },
     "output_type": "display_data"
    }
   ],
   "source": [
    "lista = list(muestra.flatten())\n",
    "plt.hist(x=lista, bins=5, color='#F2AB6D')\n",
    "plt.title('Estudiantes de Henry')\n",
    "plt.grid()\n",
    "plt.xlabel('Altura')\n",
    "plt.ylabel('Frecuencia')\n",
    "plt.show() \n"
   ]
  },
  {
   "cell_type": "markdown",
   "metadata": {},
   "source": [
    "3. Utilizando pandas describa el dataframe."
   ]
  },
  {
   "cell_type": "code",
   "execution_count": 5,
   "metadata": {},
   "outputs": [
    {
     "name": "stdout",
     "output_type": "stream",
     "text": [
      "              0         1         2         3\n",
      "count  5.000000  5.000000  5.000000  5.000000\n",
      "mean   1.634000  1.636000  1.650000  1.646000\n",
      "std    0.173003  0.145705  0.139463  0.131833\n",
      "min    1.400000  1.420000  1.450000  1.480000\n",
      "25%    1.540000  1.570000  1.580000  1.590000\n",
      "50%    1.650000  1.690000  1.670000  1.600000\n",
      "75%    1.730000  1.700000  1.750000  1.760000\n",
      "max    1.850000  1.800000  1.800000  1.800000 \n",
      "                0\n",
      "count  20.000000\n",
      "mean    1.641500\n",
      "std     0.136277\n",
      "min     1.400000\n",
      "25%     1.562500\n",
      "50%     1.660000\n",
      "75%     1.752500\n",
      "max     1.850000\n"
     ]
    }
   ],
   "source": [
    "df = pd.DataFrame(muestra)\n",
    "df_1 = pd.DataFrame(lista)\n",
    "print(df.describe(),\"\\n\", df_1.describe())"
   ]
  },
  {
   "cell_type": "markdown",
   "metadata": {},
   "source": [
    "4. Con los siguientes datos construye un df y un array que permitan describir adecuadamente la muestra.<br>\n",
    "'Ingreso en miles' : 10.5\t6.8\t20.7\t18.2\t8.6\t25.8\t22.2\t5.9\t7.6\t11.8 <br>\n",
    "'Años de estudio': 17\t18\t21\t16\t16\t21\t16\t14\t18\t18 <br>"
   ]
  },
  {
   "cell_type": "code",
   "execution_count": 16,
   "metadata": {},
   "outputs": [
    {
     "name": "stdout",
     "output_type": "stream",
     "text": [
      "[[10.5 17. ]\n",
      " [ 6.8 18. ]\n",
      " [20.7 21. ]\n",
      " [18.2 16. ]\n",
      " [ 8.6 16. ]\n",
      " [25.8 21. ]\n",
      " [22.2 16. ]\n",
      " [ 5.9 14. ]\n",
      " [ 7.6 18. ]\n",
      " [11.8 18. ]]\n",
      "   Ingreso en miles  Años de estudio\n",
      "0              10.5               17\n",
      "1               6.8               18\n",
      "2              20.7               21\n",
      "3              18.2               16\n",
      "4               8.6               16\n",
      "5              25.8               21\n",
      "6              22.2               16\n",
      "7               5.9               14\n",
      "8               7.6               18\n",
      "9              11.8               18\n"
     ]
    }
   ],
   "source": [
    "salary = np.array([10.5,6.8,20.7,18.2,8.6,25.8,22.2,5.9,7.6,11.8])\n",
    "years = np.array([17,18,21,16,16,21,16,14,18,18],dtype=int)\n",
    "people = np.array([salary,years]).T\n",
    "print(people)\n",
    "df = pd.DataFrame(people,columns=['Ingreso en miles','Años de estudio'])\n",
    "df['Años de estudio'] = df['Años de estudio'].astype(int)\n",
    "print(df)"
   ]
  },
  {
   "cell_type": "markdown",
   "metadata": {},
   "source": [
    "5. Realice un par de histogramas de 6 secciones para 'Ingreso en miles' y 'Años de estudio'."
   ]
  },
  {
   "cell_type": "code",
   "execution_count": 7,
   "metadata": {},
   "outputs": [
    {
     "data": {
      "image/png": "[encoded data removed]",
      "text/plain": [
       "<Figure size 864x360 with 2 Axes>"
      ]
     },
     "metadata": {
      "needs_background": "light"
     },
     "output_type": "display_data"
    }
   ],
   "source": [
    "fig, ax = plt.subplots(nrows=1, figsize=(12,5), ncols=2)\n",
    "#Objeto 1\n",
    "ax[0].hist(df['Ingreso en miles'], bins=6, color='red', edgecolor='black')\n",
    "ax[0].set_title('Personas', fontsize='large', fontweight = 600)\n",
    "ax[0].set_xlabel('Ingreso en miles')\n",
    "#Objeto 2\n",
    "ax[1].hist(df['Años de estudio'], bins=6, color='blue', edgecolor='black')\n",
    "ax[1].set_title('Personas', fontsize='large', fontweight = 600)\n",
    "ax[1].set_xlabel('Años de estudio')\n",
    "plt.show()"
   ]
  },
  {
   "cell_type": "code",
   "execution_count": 8,
   "metadata": {},
   "outputs": [
    {
     "data": {
      "image/png": "[encoded data removed]",
      "text/plain": [
       "<Figure size 432x288 with 1 Axes>"
      ]
     },
     "metadata": {
      "needs_background": "light"
     },
     "output_type": "display_data"
    }
   ],
   "source": [
    "# OPCIÓN 2 para hacer los 2 histogramas en simultáneo\n",
    "plt.hist(df['Ingreso en miles'], bins=6, color='red', edgecolor='black', label=\"Ingreso en miles\")\n",
    "plt.hist(df['Años de estudio'], bins=6, color='blue', edgecolor='black', label=\"Años de estudio\")\n",
    "plt.legend()\n",
    "plt.title(\"Personas\")\n",
    "plt.grid()\n",
    "plt.show()"
   ]
  },
  {
   "cell_type": "markdown",
   "metadata": {},
   "source": [
    "6. Cálcula la media de 'Ingreso en miles' (df) utilizando pandas."
   ]
  },
  {
   "cell_type": "code",
   "execution_count": 9,
   "metadata": {},
   "outputs": [
    {
     "name": "stdout",
     "output_type": "stream",
     "text": [
      "df['Ingreso en miles'].mean()=13.809999999999999\n"
     ]
    }
   ],
   "source": [
    "print(f\"{df['Ingreso en miles'].mean()=}\")"
   ]
  },
  {
   "cell_type": "markdown",
   "metadata": {},
   "source": [
    "7. Cálcula la media de 'Ingreso en miles' (array) utilizando numpy."
   ]
  },
  {
   "cell_type": "code",
   "execution_count": 18,
   "metadata": {},
   "outputs": [
    {
     "name": "stdout",
     "output_type": "stream",
     "text": [
      "Media de Ingreso en miles: 13.809999999999999\n"
     ]
    }
   ],
   "source": [
    "print(f\"Media de Ingreso en miles: {np.mean(people[:, 0])}\")"
   ]
  },
  {
   "cell_type": "markdown",
   "metadata": {},
   "source": [
    "8. Agregue los siguientes valores extremos al df [ 50, 35 ], [ 120, 30 ]. ¿En cuanto vario la media?, ¿Qué conclusiones obtiene de este resultado sobre la media?."
   ]
  },
  {
   "cell_type": "code",
   "execution_count": 11,
   "metadata": {},
   "outputs": [],
   "source": [
    "# Opción 1\n",
    "#df2 = pd.DataFrame([[50,35],[120,30]],columns=['Ingreso en miles','Años de estudio'])\n",
    "#df = pd.concat([df,df2],axis=0)\n",
    "#df"
   ]
  },
  {
   "cell_type": "code",
   "execution_count": 12,
   "metadata": {},
   "outputs": [
    {
     "data": {
      "text/html": [
       "<div>\n",
       "<style scoped>\n",
       "    .dataframe tbody tr th:only-of-type {\n",
       "        vertical-align: middle;\n",
       "    }\n",
       "\n",
       "    .dataframe tbody tr th {\n",
       "        vertical-align: top;\n",
       "    }\n",
       "\n",
       "    .dataframe thead th {\n",
       "        text-align: right;\n",
       "    }\n",
       "</style>\n",
       "<table border=\"1\" class=\"dataframe\">\n",
       "  <thead>\n",
       "    <tr style=\"text-align: right;\">\n",
       "      <th></th>\n",
       "      <th>Ingreso en miles</th>\n",
       "      <th>Años de estudio</th>\n",
       "    </tr>\n",
       "  </thead>\n",
       "  <tbody>\n",
       "    <tr>\n",
       "      <th>0</th>\n",
       "      <td>10.5</td>\n",
       "      <td>17</td>\n",
       "    </tr>\n",
       "    <tr>\n",
       "      <th>1</th>\n",
       "      <td>6.8</td>\n",
       "      <td>18</td>\n",
       "    </tr>\n",
       "    <tr>\n",
       "      <th>2</th>\n",
       "      <td>20.7</td>\n",
       "      <td>21</td>\n",
       "    </tr>\n",
       "    <tr>\n",
       "      <th>3</th>\n",
       "      <td>18.2</td>\n",
       "      <td>16</td>\n",
       "    </tr>\n",
       "    <tr>\n",
       "      <th>4</th>\n",
       "      <td>8.6</td>\n",
       "      <td>16</td>\n",
       "    </tr>\n",
       "    <tr>\n",
       "      <th>5</th>\n",
       "      <td>25.8</td>\n",
       "      <td>21</td>\n",
       "    </tr>\n",
       "    <tr>\n",
       "      <th>6</th>\n",
       "      <td>22.2</td>\n",
       "      <td>16</td>\n",
       "    </tr>\n",
       "    <tr>\n",
       "      <th>7</th>\n",
       "      <td>5.9</td>\n",
       "      <td>14</td>\n",
       "    </tr>\n",
       "    <tr>\n",
       "      <th>8</th>\n",
       "      <td>7.6</td>\n",
       "      <td>18</td>\n",
       "    </tr>\n",
       "    <tr>\n",
       "      <th>9</th>\n",
       "      <td>11.8</td>\n",
       "      <td>18</td>\n",
       "    </tr>\n",
       "    <tr>\n",
       "      <th>10</th>\n",
       "      <td>50.0</td>\n",
       "      <td>35</td>\n",
       "    </tr>\n",
       "    <tr>\n",
       "      <th>11</th>\n",
       "      <td>120.0</td>\n",
       "      <td>30</td>\n",
       "    </tr>\n",
       "  </tbody>\n",
       "</table>\n",
       "</div>"
      ],
      "text/plain": [
       "    Ingreso en miles  Años de estudio\n",
       "0               10.5               17\n",
       "1                6.8               18\n",
       "2               20.7               21\n",
       "3               18.2               16\n",
       "4                8.6               16\n",
       "5               25.8               21\n",
       "6               22.2               16\n",
       "7                5.9               14\n",
       "8                7.6               18\n",
       "9               11.8               18\n",
       "10              50.0               35\n",
       "11             120.0               30"
      ]
     },
     "execution_count": 12,
     "metadata": {},
     "output_type": "execute_result"
    }
   ],
   "source": [
    "# Opción 2\n",
    "df.loc[10] = [50,35]\n",
    "df.loc[11] = [120,30]\n",
    "df"
   ]
  },
  {
   "cell_type": "code",
   "execution_count": 13,
   "metadata": {},
   "outputs": [
    {
     "name": "stdout",
     "output_type": "stream",
     "text": [
      "df['Ingreso en miles'].mean()=25.675\n"
     ]
    }
   ],
   "source": [
    "print(f\"{df['Ingreso en miles'].mean()=}\")"
   ]
  },
  {
   "cell_type": "markdown",
   "metadata": {},
   "source": [
    "Puede verse afectada por valores extremos que no son representativos del resto de los datos"
   ]
  }
 ],
 "metadata": {
  "kernelspec": {
   "display_name": "Python 3.10.5 64-bit",
   "language": "python",
   "name": "python3"
  },
  "language_info": {
   "codemirror_mode": {
    "name": "ipython",
    "version": 3
   },
   "file_extension": ".py",
   "mimetype": "text/x-python",
   "name": "python",
   "nbconvert_exporter": "python",
   "pygments_lexer": "ipython3",
   "version": "3.10.5"
  },
  "orig_nbformat": 4,
  "vscode": {
   "interpreter": {
    "hash": "8030d4c8b54922542ddcca872d6eaa3b90843e3fd85d80bb02c262de6532e63b"
   }
  }
 },
 "nbformat": 4,
 "nbformat_minor": 2
}
