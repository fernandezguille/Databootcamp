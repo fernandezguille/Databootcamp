{
 "cells": [
  {
   "cell_type": "markdown",
   "metadata": {},
   "source": [
    "# Utilizando Python calcular las siguientes probabilidades. Para cada uno intenta determinar que método aplicaste.<br>\n",
    "\n",
    "1. Lanza una moneda al aire 10 veces, ¿cuantos resultados posibles forman parte del espacio muestral?"
   ]
  },
  {
   "cell_type": "code",
   "execution_count": 19,
   "metadata": {},
   "outputs": [
    {
     "name": "stdout",
     "output_type": "stream",
     "text": [
      "La cantidad de resultados posibles es 1024, de los cuales solo 11 son diferentes\n"
     ]
    }
   ],
   "source": [
    "print(f'La cantidad de resultados posibles es {2**10}, de los cuales solo 11 son diferentes')"
   ]
  },
  {
   "cell_type": "markdown",
   "metadata": {},
   "source": [
    "2. En un aeropuerto se tiene a 10 pasajeros esperando en la sala de preembarque, la policía debe controlar a 3 de ellos. ¿Cuantas combinaciones posibles se pueden obtener?"
   ]
  },
  {
   "cell_type": "code",
   "execution_count": 20,
   "metadata": {},
   "outputs": [
    {
     "name": "stdout",
     "output_type": "stream",
     "text": [
      "Se pueden obtener 120 combinaciones seleccionando 3 pasajeros entre un total de 10\n"
     ]
    }
   ],
   "source": [
    "import math\n",
    "total = 10\n",
    "control = 3\n",
    "print(f'Se pueden obtener {math.factorial(total)//(math.factorial(control)*math.factorial(total-control))} combinaciones seleccionando {control} pasajeros entre un total de {total}')"
   ]
  },
  {
   "cell_type": "markdown",
   "metadata": {},
   "source": [
    "3. La Agencia Nacional de Seguridad Vial realizó una investigación para saber si los conductores están usando sus cinturones de seguridad. Los datos muestrales fueron los siguientes:<br>\n",
    "![Ejercicio](../_src/assets/ejercicio3.PNG)\n",
    "- a) ¿Qué metodo cree que se utilizo para asignar probabilidades?\n",
    "- b) Construya un cuadro similar, pero con la asignación de probabilidades.\n",
    "- c) ¿Cuál sería el mejor método pára estimar la probabilidad de que en Estados Unidos un conductor lleve puesto el cinturón?\n",
    "- d) Un año antes, la probabilidad en Argentina de que un conductor llevara puesto el cinturón era 0.75. El director de ANSV, esperaba que la probabilidad llegara a 0.78. ¿Estará satisfecho con los resultados del estudio? (Utilizar tabla adjunta)\n",
    "- e) ¿Cuál es la probabilidad de que se use el cinturón en las distintas regiones del país? ¿En qué región se usa más el cinturón? (Utilizar misma tabla que el ejercicio anterior)."
   ]
  },
  {
   "cell_type": "code",
   "execution_count": 21,
   "metadata": {},
   "outputs": [],
   "source": [
    "# a) Método de conteo"
   ]
  },
  {
   "cell_type": "code",
   "execution_count": 22,
   "metadata": {},
   "outputs": [
    {
     "data": {
      "text/html": [
       "<div>\n",
       "<style scoped>\n",
       "    .dataframe tbody tr th:only-of-type {\n",
       "        vertical-align: middle;\n",
       "    }\n",
       "\n",
       "    .dataframe tbody tr th {\n",
       "        vertical-align: top;\n",
       "    }\n",
       "\n",
       "    .dataframe thead th {\n",
       "        text-align: right;\n",
       "    }\n",
       "</style>\n",
       "<table border=\"1\" class=\"dataframe\">\n",
       "  <thead>\n",
       "    <tr style=\"text-align: right;\">\n",
       "      <th></th>\n",
       "      <th>Si</th>\n",
       "      <th>No</th>\n",
       "      <th>P_region</th>\n",
       "    </tr>\n",
       "  </thead>\n",
       "  <tbody>\n",
       "    <tr>\n",
       "      <th>Norte</th>\n",
       "      <td>0.136280</td>\n",
       "      <td>0.047882</td>\n",
       "      <td>0.184162</td>\n",
       "    </tr>\n",
       "    <tr>\n",
       "      <th>Noreste</th>\n",
       "      <td>0.149171</td>\n",
       "      <td>0.049724</td>\n",
       "      <td>0.198895</td>\n",
       "    </tr>\n",
       "    <tr>\n",
       "      <th>Sur</th>\n",
       "      <td>0.272560</td>\n",
       "      <td>0.068140</td>\n",
       "      <td>0.340700</td>\n",
       "    </tr>\n",
       "    <tr>\n",
       "      <th>Centro</th>\n",
       "      <td>0.232044</td>\n",
       "      <td>0.044199</td>\n",
       "      <td>0.276243</td>\n",
       "    </tr>\n",
       "    <tr>\n",
       "      <th>Total</th>\n",
       "      <td>0.790055</td>\n",
       "      <td>0.209945</td>\n",
       "      <td>1.000000</td>\n",
       "    </tr>\n",
       "  </tbody>\n",
       "</table>\n",
       "</div>"
      ],
      "text/plain": [
       "               Si        No  P_region\n",
       "Norte    0.136280  0.047882  0.184162\n",
       "Noreste  0.149171  0.049724  0.198895\n",
       "Sur      0.272560  0.068140  0.340700\n",
       "Centro   0.232044  0.044199  0.276243\n",
       "Total    0.790055  0.209945  1.000000"
      ]
     },
     "execution_count": 22,
     "metadata": {},
     "output_type": "execute_result"
    }
   ],
   "source": [
    "# b)\n",
    "import pandas as pd\n",
    "df = pd.DataFrame([[148,52],[162,54],[296,74],[252,48],[858,228]], index=['Norte','Noreste','Sur','Centro','Total'], columns=['Si','No'])\n",
    "df = df / 1086\n",
    "df['P_region'] = df.Si + df.No\n",
    "df"
   ]
  },
  {
   "cell_type": "code",
   "execution_count": 23,
   "metadata": {},
   "outputs": [
    {
     "data": {
      "text/plain": [
       "0.7900552486187845"
      ]
     },
     "execution_count": 23,
     "metadata": {},
     "output_type": "execute_result"
    }
   ],
   "source": [
    "# c)\n",
    "# Casos favorables / Total de casos\n",
    "df.Si.max()"
   ]
  },
  {
   "cell_type": "code",
   "execution_count": 24,
   "metadata": {},
   "outputs": [],
   "source": [
    "# d) el resultado es mayor de lo esperado"
   ]
  },
  {
   "cell_type": "code",
   "execution_count": 25,
   "metadata": {},
   "outputs": [
    {
     "name": "stdout",
     "output_type": "stream",
     "text": [
      "               Si        No  P_region  P_cint_region\n",
      "Norte    0.136280  0.047882  0.184162       0.740000\n",
      "Noreste  0.149171  0.049724  0.198895       0.750000\n",
      "Sur      0.272560  0.068140  0.340700       0.800000\n",
      "Centro   0.232044  0.044199  0.276243       0.840000\n",
      "Total    0.790055  0.209945  1.000000       0.790055\n"
     ]
    },
    {
     "data": {
      "text/plain": [
       "'Centro'"
      ]
     },
     "execution_count": 25,
     "metadata": {},
     "output_type": "execute_result"
    }
   ],
   "source": [
    "# e)\n",
    "df['P_cint_region'] = df['Si'] / df['P_region']\n",
    "print(df)\n",
    "df['P_cint_region'].idxmax()"
   ]
  },
  {
   "cell_type": "markdown",
   "metadata": {},
   "source": [
    "4. Crear una funcion que permita calcular la probabilidad de los siguientes eventos en un baraja de 52 cartas.<br>\n",
    "- Obtener una carta roja.<br>\n",
    "- Obtener una carta negra.<br>\n",
    "- Obtener una pica.<br>\n",
    "- Obtener un trébol.<br>\n",
    "- Obtener un corazón.<br>\n",
    "- Obtener un diamante.<br>"
   ]
  },
  {
   "cell_type": "code",
   "execution_count": 26,
   "metadata": {},
   "outputs": [],
   "source": [
    "rojas, negras = 26, 26\n",
    "picas, treboles, corazones, diamantes = 13, 13, 13, 13"
   ]
  },
  {
   "cell_type": "code",
   "execution_count": 27,
   "metadata": {},
   "outputs": [],
   "source": [
    "def baraja(carta):\n",
    "    global picas; global treboles; global corazones; global diamantes; global negras; global rojas\n",
    "    total = picas + treboles + corazones + diamantes\n",
    "    if carta == 'pica':\n",
    "        print(f'La probabilidad de sacar {carta} es {picas/total} y de negra es {negras/total}. Quedan {picas-1}, y {negras-1} cartas negras')\n",
    "        picas -= 1\n",
    "        negras -= 1\n",
    "    elif carta == 'trebol':\n",
    "        print(f'La probabilidad de sacar {carta} es {treboles/total} y de negra es {negras/total}. Quedan {treboles-1}, y {negras-1} cartas negras')\n",
    "        treboles -= 1\n",
    "        negras -= 1\n",
    "    elif carta == 'corazon':\n",
    "        print(f'La probabilidad de sacar {carta} es {corazones/total} y de negra es {rojas/total}. Quedan {corazones-1}, y {rojas-1} cartas rojas')\n",
    "        corazones -= 1\n",
    "        rojas -= 1\n",
    "    elif carta == 'diamante':\n",
    "        print(f'La probabilidad de sacar {carta} es {diamantes/total} y de negra es {rojas/total}. Quedan {diamantes-1}, y {rojas-1} cartas rojas')\n",
    "        diamantes -= 1\n",
    "        rojas -= 1"
   ]
  },
  {
   "cell_type": "code",
   "execution_count": 28,
   "metadata": {},
   "outputs": [
    {
     "name": "stdout",
     "output_type": "stream",
     "text": [
      "La probabilidad de sacar trebol es 0.25 y de negra es 0.5. Quedan 12, y 25 cartas negras\n",
      "La probabilidad de sacar trebol es 0.23529411764705882 y de negra es 0.49019607843137253. Quedan 11, y 24 cartas negras\n",
      "La probabilidad de sacar pica es 0.26 y de negra es 0.48. Quedan 12, y 23 cartas negras\n",
      "La probabilidad de sacar pica es 0.24489795918367346 y de negra es 0.46938775510204084. Quedan 11, y 22 cartas negras\n",
      "La probabilidad de sacar trebol es 0.22916666666666666 y de negra es 0.4583333333333333. Quedan 10, y 21 cartas negras\n",
      "La probabilidad de sacar trebol es 0.2127659574468085 y de negra es 0.44680851063829785. Quedan 9, y 20 cartas negras\n",
      "La probabilidad de sacar trebol es 0.1956521739130435 y de negra es 0.43478260869565216. Quedan 8, y 19 cartas negras\n",
      "La probabilidad de sacar pica es 0.24444444444444444 y de negra es 0.4222222222222222. Quedan 10, y 18 cartas negras\n",
      "La probabilidad de sacar corazon es 0.29545454545454547 y de negra es 0.5909090909090909. Quedan 12, y 25 cartas rojas\n",
      "La probabilidad de sacar diamante es 0.3023255813953488 y de negra es 0.5813953488372093. Quedan 12, y 24 cartas rojas\n"
     ]
    }
   ],
   "source": [
    "baraja('trebol')\n",
    "baraja('trebol')\n",
    "baraja('pica')\n",
    "baraja('pica')\n",
    "baraja('trebol')\n",
    "baraja('trebol')\n",
    "baraja('trebol')\n",
    "baraja('pica')\n",
    "baraja('corazon')\n",
    "baraja('diamante')"
   ]
  },
  {
   "cell_type": "markdown",
   "metadata": {},
   "source": [
    "5. La probabilidad de que salga un 7 o un 8 al seleccionar una carta de una baraja de las 52 cartas que contiene el mazo. <br"
   ]
  },
  {
   "cell_type": "code",
   "execution_count": 29,
   "metadata": {},
   "outputs": [
    {
     "name": "stdout",
     "output_type": "stream",
     "text": [
      "La probabilidad de sacar 7 u 8 en una baraja es: 0.15384615384615385\n"
     ]
    }
   ],
   "source": [
    "print(f'La probabilidad de sacar 7 u 8 en una baraja es: {8/52}')"
   ]
  },
  {
   "cell_type": "markdown",
   "metadata": {},
   "source": [
    "6. La probabilidad de tu país gane el mundial de fútbol.<br>"
   ]
  },
  {
   "cell_type": "code",
   "execution_count": 30,
   "metadata": {},
   "outputs": [
    {
     "name": "stdout",
     "output_type": "stream",
     "text": [
      "La probabilidad de ganar el mundial es: 0.03125\n"
     ]
    }
   ],
   "source": [
    "print(f'La probabilidad de ganar el mundial es: {1/32}')"
   ]
  },
  {
   "cell_type": "markdown",
   "metadata": {},
   "source": [
    "7. Un experimento que tiene tres resultados es repetido 50 veces y se ve que E1 aparece 20 veces, E2 13 veces y E3 17 veces. Asigne probabilidades a los resultados.<br>"
   ]
  },
  {
   "cell_type": "code",
   "execution_count": 31,
   "metadata": {},
   "outputs": [
    {
     "name": "stdout",
     "output_type": "stream",
     "text": [
      "Probabilidad de E1: 0.4\n",
      "Probabilidad de E2: 0.26\n",
      "Probabilidad de E1: 0.34\n"
     ]
    }
   ],
   "source": [
    "print(f'Probabilidad de E1: {20/50}')\n",
    "print(f'Probabilidad de E2: {13/50}')\n",
    "print(f'Probabilidad de E1: {17/50}')"
   ]
  },
  {
   "cell_type": "markdown",
   "metadata": {},
   "source": [
    "# Extras\n",
    "1. Si la probabilidad de que un cliente pague en efectivo (E) es 6/15, con tarjeta de crédito (TC) es 7/15 y con tarjeta de débito (TD) es 2/15. Hallar la probabilidad de que dos clientes sucesivos que pagan sus cuentas lo hagan:<br>\n",
    " a) el primero en efectivo y el segundo con tarjeta de crédito.<br>\n",
    " b) Los dos clientes en efectivo<br>"
   ]
  },
  {
   "cell_type": "code",
   "execution_count": 32,
   "metadata": {},
   "outputs": [
    {
     "name": "stdout",
     "output_type": "stream",
     "text": [
      "La probabilidad de E -> TC es: 0.18666666666666668\n",
      "La probabilidad de E -> E es: 0.16000000000000003\n"
     ]
    }
   ],
   "source": [
    "# a)\n",
    "print(f'La probabilidad de E -> TC es: {(6/15)*(7/15)}')\n",
    "# b) \n",
    "print(f'La probabilidad de E -> E es: {(6/15)*(6/15)}')"
   ]
  },
  {
   "cell_type": "markdown",
   "metadata": {},
   "source": [
    "2. La probabilidad de que un Henry repruebe el M1 es de 0.8, de que apruebe M2 es 0.5 y de que repruebe el M3 es de 0.4.<br>\n",
    " (Los eventos no interfieren entre si) <br>\n",
    "\n",
    "![Tabla](../_src/assets/probhenry.PNG)\n",
    "\n",
    "Determinar la probabilidad de que:<br>\n",
    " a) Apruebe un módulo.<br>\n",
    " b) Repruebe las tres materias."
   ]
  },
  {
   "cell_type": "code",
   "execution_count": 33,
   "metadata": {},
   "outputs": [
    {
     "name": "stdout",
     "output_type": "stream",
     "text": [
      "Probabilidad de aprobar solo un módulo es: 0.44000000000000006\n",
      "Probabilidad de reprobar todos los módulos: 0.16000000000000003\n",
      "Probabilidad de aprobar todos los módulos: 0.06\n"
     ]
    }
   ],
   "source": [
    "AM1 = 0.2 * 0.5 * 0.4\n",
    "AM2 = 0.8 * 0.5 * 0.4\n",
    "AM3 = 0.8 * 0.5 * 0.6\n",
    "print(f'Probabilidad de aprobar solo un módulo es: {AM1+AM2+AM3}')\n",
    "print(f'Probabilidad de reprobar todos los módulos: {0.8*0.5*0.4}')\n",
    "print(f'Probabilidad de aprobar todos los módulos: {0.2*0.5*0.6}')"
   ]
  }
 ],
 "metadata": {
  "kernelspec": {
   "display_name": "Python 3.10.5 64-bit",
   "language": "python",
   "name": "python3"
  },
  "language_info": {
   "codemirror_mode": {
    "name": "ipython",
    "version": 3
   },
   "file_extension": ".py",
   "mimetype": "text/x-python",
   "name": "python",
   "nbconvert_exporter": "python",
   "pygments_lexer": "ipython3",
   "version": "3.10.5"
  },
  "orig_nbformat": 4,
  "vscode": {
   "interpreter": {
    "hash": "8030d4c8b54922542ddcca872d6eaa3b90843e3fd85d80bb02c262de6532e63b"
   }
  }
 },
 "nbformat": 4,
 "nbformat_minor": 2
}
