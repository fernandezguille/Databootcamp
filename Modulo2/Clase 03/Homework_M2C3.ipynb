{
 "cells": [
  {
   "cell_type": "markdown",
   "metadata": {},
   "source": [
    "## Homework\n",
    "\n",
    "1. Suponga dos eventos, A y B, y que P(A) = 0.50, P(B) = 0.60 y P(A ∩ B) = 0.40.<br>\n",
    "- a. Halle P(A | B).\n",
    "- b. Halle P(B | A).\n",
    "- c. ¿A y B son independientes? ¿Por qué sí o por qué no?"
   ]
  },
  {
   "cell_type": "code",
   "execution_count": 15,
   "metadata": {},
   "outputs": [
    {
     "name": "stdout",
     "output_type": "stream",
     "text": [
      "a) P(A|B)=0.6667\n",
      "b) P(B|A)=0.8\n",
      "c) A y B son sucesos independientes: False\n"
     ]
    },
    {
     "data": {
      "text/plain": [
       "'Para que fueran independientes, P(A|B) = P(A)'"
      ]
     },
     "execution_count": 15,
     "metadata": {},
     "output_type": "execute_result"
    }
   ],
   "source": [
    "pA, pB, pAB = 0.5, 0.6, 0.4\n",
    "print(f'a) P(A|B)={(pAB/pB).__round__(4)}')\n",
    "print(f'b) P(B|A)={pAB/pA}')\n",
    "print(f'c) A y B son sucesos independientes: {pAB/pB == pA}')\n",
    "'Para que fueran independientes, P(A|B) = P(A)'"
   ]
  },
  {
   "cell_type": "markdown",
   "metadata": {},
   "source": [
    "2. Suponga dos eventos, A y B, que son mutuamente excluyentes. Admita, además, que P(A) = 0.30 y P(B) = 0.40.<br>\n",
    "- a. Obtenga P(A ∩ B). ¿Existe intersección entre los dos conjuntos?.\n",
    "- b. Calcule P(A | B).\n",
    "- c. Un estudiante de estadística argumenta que los conceptos de eventos mutuamente excluyentes y eventos independientes son en realidad lo mismo y que si los eventos son mutuamente excluyentes deben ser también independientes. ¿Está usted de acuerdo? Use la información sobre las probabilidades para justificar su respuesta."
   ]
  },
  {
   "cell_type": "code",
   "execution_count": 3,
   "metadata": {},
   "outputs": [
    {
     "name": "stdout",
     "output_type": "stream",
     "text": [
      "a) P(A ∩ B) = 0. Hay intersección: False\n",
      "b) P(A | B) = 0.0. Eventos independientes: False\n",
      "c) A y B son mutuamente excluyentes: True. Son independientes: False.\n"
     ]
    }
   ],
   "source": [
    "pA, pB, pAB = 0.3, 0.4, 0\n",
    "print(f'a) P(A ∩ B) = {pAB}. Hay intersección: {bool(pAB)}')\n",
    "print(f'b) P(A | B) = {pAB/pA}. Eventos independientes: {bool(pAB/pA)}')\n",
    "print(f'c) A y B son mutuamente excluyentes: {pAB == 0}. Son independientes: {bool(pAB/pA)}.')\n"
   ]
  },
  {
   "cell_type": "markdown",
   "metadata": {},
   "source": [
    "3. Dada la siguiente tabla:<br>\n",
    "![Sucesos](../_src/assets/sucesos.PNG)<br> \n",
    "Si en la concesionaria se seleccionan dos ventas con reposición (los sucesos son independientes), hallar la probabilidad de que las ventas sean:<br>\n",
    " \n",
    "  - a. La primera de un comprador de “menos de 40 años” y la segunda de uno de \"entre 40 y 50 años\". \n",
    "  \n",
    "  - b. Las dos sean de autos \"nacionales\"."
   ]
  },
  {
   "cell_type": "code",
   "execution_count": 17,
   "metadata": {},
   "outputs": [
    {
     "name": "stdout",
     "output_type": "stream",
     "text": [
      "a) La probabilidad es de: 0.1594\n",
      "b) La probabilidad es de: 0.3906\n"
     ]
    }
   ],
   "source": [
    "primera = 30/80; segunda = 34/80; nacional = 50/80\n",
    "print(f'a) La probabilidad es de: {(primera*segunda).__round__(4)}')\n",
    "print(f'b) La probabilidad es de: {(nacional**2).__round__(4)}')\n"
   ]
  },
  {
   "cell_type": "markdown",
   "metadata": {},
   "source": [
    "4. Si la selección de las dos ventas se realiza SIN reposición (los sucesos son condicionales), hallar la probabilidad de que las ventas sean:<br>\n",
    "\n",
    " - a. La primera de un comprador de “menos de 40 años” y la segunda de uno de \"entre 40 y 50 años\".\n",
    "\n",
    " - b. Las dos sean de autos \"nacionales\"."
   ]
  },
  {
   "cell_type": "code",
   "execution_count": 18,
   "metadata": {},
   "outputs": [
    {
     "name": "stdout",
     "output_type": "stream",
     "text": [
      "a) La probabilidad es de: 0.1614\n",
      "b) La probabilidad es de: 0.3877\n"
     ]
    }
   ],
   "source": [
    "primera = 30/80; segunda = 34/79; nacional = 50/80; nacional2 = 49/79\n",
    "print(f'a) La probabilidad es de: {(primera*segunda).__round__(4)}')\n",
    "print(f'b) La probabilidad es de: {(nacional*nacional2).__round__(4)}')"
   ]
  },
  {
   "cell_type": "markdown",
   "metadata": {},
   "source": [
    "5. Si la selección de las dos ventas se realiza SIN reposición (los sucesos son condicionales),  hallar la probabilidad de que las ventas sean:<br>\n",
    "    \n",
    " - a. De un comprador de “menos de 40 años” y de uno de \"entre 40 y 50 años\", sin importar el orden."
   ]
  },
  {
   "cell_type": "code",
   "execution_count": 19,
   "metadata": {},
   "outputs": [
    {
     "name": "stdout",
     "output_type": "stream",
     "text": [
      "La probabilidad es de: 0.3228\n"
     ]
    }
   ],
   "source": [
    "casoA = (30/80) * (34/79); casoB = (34/80) * (30/79)\n",
    "print(f'La probabilidad es de: {(casoA + casoB).__round__(4)}')"
   ]
  },
  {
   "cell_type": "markdown",
   "metadata": {},
   "source": [
    " 6. Debido al aumento de los costos de los seguros, en Estados Unidos 43 millones de personas no cuentan con un seguro médico. En la tabla siguiente se muestran datos muestrales representativos de la cantidad de personas que cuentan con seguro médico:<br>\n",
    " ![Seguro](../_src/assets/seguro.PNG)\n",
    "\n",
    "- a. Con estos datos elabore una tabla de probabilidad conjunta y úsela para responder las preguntas restantes.\n",
    "- b. ¿Qué indican las probabilidades marginales acerca de la edad de la población?\n",
    "- c. ¿Cuál es la probabilidad de que una persona tomada en forma aleatoria no tenga seguro médico?\n",
    "- d. Si la persona tiene entre 18 y 34 años, ¿cuál es la probabilidad de que no tenga seguro médico?\n",
    "- e. Si la persona tiene 35 años o más, ¿cuál es la probabilidad de que no tenga seguro médico?\n",
    "- f. Si la persona no tiene seguro médico, ¿cuál es la probabilidad de que tenga entre 18 y 34 años?"
   ]
  },
  {
   "cell_type": "code",
   "execution_count": 33,
   "metadata": {},
   "outputs": [
    {
     "data": {
      "text/html": [
       "<div>\n",
       "<style scoped>\n",
       "    .dataframe tbody tr th:only-of-type {\n",
       "        vertical-align: middle;\n",
       "    }\n",
       "\n",
       "    .dataframe tbody tr th {\n",
       "        vertical-align: top;\n",
       "    }\n",
       "\n",
       "    .dataframe thead th {\n",
       "        text-align: right;\n",
       "    }\n",
       "</style>\n",
       "<table border=\"1\" class=\"dataframe\">\n",
       "  <thead>\n",
       "    <tr style=\"text-align: right;\">\n",
       "      <th></th>\n",
       "      <th>Si</th>\n",
       "      <th>No</th>\n",
       "      <th>Total</th>\n",
       "    </tr>\n",
       "  </thead>\n",
       "  <tbody>\n",
       "    <tr>\n",
       "      <th>18 a 34</th>\n",
       "      <td>0.375</td>\n",
       "      <td>0.085</td>\n",
       "      <td>0.46</td>\n",
       "    </tr>\n",
       "    <tr>\n",
       "      <th>35 o mayor</th>\n",
       "      <td>0.475</td>\n",
       "      <td>0.065</td>\n",
       "      <td>0.54</td>\n",
       "    </tr>\n",
       "    <tr>\n",
       "      <th>Total</th>\n",
       "      <td>0.850</td>\n",
       "      <td>0.150</td>\n",
       "      <td>1.00</td>\n",
       "    </tr>\n",
       "  </tbody>\n",
       "</table>\n",
       "</div>"
      ],
      "text/plain": [
       "               Si     No  Total\n",
       "18 a 34     0.375  0.085   0.46\n",
       "35 o mayor  0.475  0.065   0.54\n",
       "Total       0.850  0.150   1.00"
      ]
     },
     "execution_count": 33,
     "metadata": {},
     "output_type": "execute_result"
    }
   ],
   "source": [
    "import pandas as pd\n",
    "df = pd.DataFrame([[750,170],[950,130],[1700,300]],index=['18 a 34','35 o mayor','Total'],columns=['Si','No'])\n",
    "df['Total'] = df.Si + df.No\n",
    "df = df/2000\n",
    "df"
   ]
  },
  {
   "cell_type": "code",
   "execution_count": 34,
   "metadata": {},
   "outputs": [
    {
     "name": "stdout",
     "output_type": "stream",
     "text": [
      "b) Indican la probabilidad de que cada elemento pertenezca a uno de los rangos etarios.\n",
      "c) La probabilidad es: 0.15\n",
      "d) La probabilidad es: 0.1848\n",
      "e) La probabilidad es: 0.1204\n",
      "f) La probabilidad es: 0.5667\n"
     ]
    }
   ],
   "source": [
    "print('b) Indican la probabilidad de que cada elemento pertenezca a uno de los rangos etarios.')\n",
    "print(f'c) La probabilidad es: {df.No[2]}')\n",
    "print(f'd) La probabilidad es: {(df.No[0]/df.Total[0]).__round__(4)}')\n",
    "print(f'e) La probabilidad es: {(df.No[1]/df.Total[1]).__round__(4)}')\n",
    "print(f'f) La probabilidad es: {(df.No[0]/df.No[2]).__round__(4)}')"
   ]
  },
  {
   "cell_type": "markdown",
   "metadata": {},
   "source": [
    "#### Puedes complementar con los ejercicios del 33 al 40 del Capitula 4 del libro \"ESTADÍSTICA PARA ADMINISTRACIÓN Y ECONOMÍA\""
   ]
  },
  {
   "cell_type": "markdown",
   "metadata": {},
   "source": [
    "33. Una muestra de estudiantes de la maestría en administración de negocios, arrojó la siguiente información sobre la principal razón que tuvieron los estudiantes para elegir la escuela en donde hacen sus estudios.\n",
    "\n",
    "(Grafico en pagina 169)\n",
    "\n",
    "- a. Con estos datos elabore una tabla de probabilidad conjunta.\n",
    "- b. Use las probabilidades marginales: calidad de la escuela, costo de la escuela y otras para comentar cuál es la principal razón por la que eligen una escuela.\n",
    "- c. Si es un estudiante de tiempo completo, ¿cuál es la probabilidad de que la principal razón para su elección de la escuela haya sido la calidad de la escuela?\n",
    "- d. Si es un estudiante de medio tiempo, ¿cuál es la probabilidad de que la principal razón para su elección de la escuela haya sido la calidad de la escuela?\n",
    "- e. Si A denota el evento es estudiante de tiempo completo y B denota el evento la calidad de la escuela fue la primera razón para su elección, ¿son independientes los eventos A y B? Justifique su respuesta."
   ]
  },
  {
   "cell_type": "markdown",
   "metadata": {},
   "source": [
    "Razones de su elección\n",
    "                            Calidad de  Costo de\n",
    "                            la escuela  la escuela  Otras   Totales\n",
    "Tipo de     Tiempo completo 421         393         76      890\n",
    "estudiante  Medio tiempo    400         593         46      1039\n",
    "            Totales         821         986         122     1929"
   ]
  },
  {
   "cell_type": "code",
   "execution_count": 50,
   "metadata": {},
   "outputs": [
    {
     "data": {
      "text/html": [
       "<div>\n",
       "<style scoped>\n",
       "    .dataframe tbody tr th:only-of-type {\n",
       "        vertical-align: middle;\n",
       "    }\n",
       "\n",
       "    .dataframe tbody tr th {\n",
       "        vertical-align: top;\n",
       "    }\n",
       "\n",
       "    .dataframe thead th {\n",
       "        text-align: right;\n",
       "    }\n",
       "</style>\n",
       "<table border=\"1\" class=\"dataframe\">\n",
       "  <thead>\n",
       "    <tr style=\"text-align: right;\">\n",
       "      <th></th>\n",
       "      <th>Calidad</th>\n",
       "      <th>Costo</th>\n",
       "      <th>Otro</th>\n",
       "      <th>Total</th>\n",
       "    </tr>\n",
       "  </thead>\n",
       "  <tbody>\n",
       "    <tr>\n",
       "      <th>FT</th>\n",
       "      <td>0.218248</td>\n",
       "      <td>0.203733</td>\n",
       "      <td>0.039399</td>\n",
       "      <td>0.461379</td>\n",
       "    </tr>\n",
       "    <tr>\n",
       "      <th>PT</th>\n",
       "      <td>0.207361</td>\n",
       "      <td>0.307413</td>\n",
       "      <td>0.023847</td>\n",
       "      <td>0.538621</td>\n",
       "    </tr>\n",
       "    <tr>\n",
       "      <th>Tot</th>\n",
       "      <td>0.425609</td>\n",
       "      <td>0.511146</td>\n",
       "      <td>0.063245</td>\n",
       "      <td>1.000000</td>\n",
       "    </tr>\n",
       "  </tbody>\n",
       "</table>\n",
       "</div>"
      ],
      "text/plain": [
       "      Calidad     Costo      Otro     Total\n",
       "FT   0.218248  0.203733  0.039399  0.461379\n",
       "PT   0.207361  0.307413  0.023847  0.538621\n",
       "Tot  0.425609  0.511146  0.063245  1.000000"
      ]
     },
     "execution_count": 50,
     "metadata": {},
     "output_type": "execute_result"
    }
   ],
   "source": [
    "df_e = pd.DataFrame([[421,393,76,890],[400,593,46,1039],[821,986,122,1929]],index=['FT','PT','Tot'],columns=['Calidad','Costo','Otro','Total'])\n",
    "df_e = df_e/1929\n",
    "df_e"
   ]
  },
  {
   "cell_type": "code",
   "execution_count": 37,
   "metadata": {},
   "outputs": [
    {
     "name": "stdout",
     "output_type": "stream",
     "text": [
      "b) Lo más probable es que un alumno elija por costo\n",
      "c) 0.473\n",
      "d) 0.385\n",
      "e) Independencia: P(A ∩ B) = P(A)*P(B)\n",
      "   P(A ∩ B) = 0.2182, P(A) = 0.4614, P(B) = 0.4256\n",
      "   Son independientes: False\n"
     ]
    }
   ],
   "source": [
    "print('b) Lo más probable es que un alumno elija por costo')\n",
    "print('c)',(df_e.Calidad[0]/df_e.Total[0]).round(4))\n",
    "print('d)',(df_e.Calidad[1]/df_e.Total[1]).round(4))\n",
    "print(f'''e) Independencia: P(A ∩ B) = P(A)*P(B)\n",
    "   P(A ∩ B) = {df_e.Calidad[0].round(4)}, P(A) = {df_e.Total[0].round(4)}, P(B) = {df_e.Calidad[2].round(4)}\n",
    "   Son independientes: {df_e.Calidad[0] == df_e.Total[0]*df_e.Calidad[2]}''')"
   ]
  },
  {
   "cell_type": "markdown",
   "metadata": {},
   "source": [
    "34. La tabla siguiente muestra las probabilidades de los distintos tipos sanguíneo en la población.\n",
    "\n",
    "(Gráfico en página 170)\n",
    "- a. ¿Cuál es la probabilidad de que una persona tenga sangre tipo O?\n",
    "- b. ¿De que tenga sangre Rh-?\n",
    "- c. ¿Cuál es la probabilidad de que una persona sea Rh- dado que la persona tiene sangre tipo O?\n",
    "- d. ¿Cuál es la probabilidad de que una persona tenga sangre tipo B dado que es Rh+?\n",
    "- e. ¿Cuál es la probabilidad de que en un matrimonio, los dos sean Rh-?\n",
    "- f. ¿Cuál es la probabilidad de que en un matrimonio, los dos tengan sangre AB?"
   ]
  },
  {
   "cell_type": "markdown",
   "metadata": {},
   "source": [
    "    A       B       AB      O\n",
    "Rh+ 0.34    0.09    0.04    0.38\n",
    "Rh- 0.06    0.02    0.01    0.06"
   ]
  },
  {
   "cell_type": "code",
   "execution_count": 39,
   "metadata": {},
   "outputs": [
    {
     "name": "stdout",
     "output_type": "stream",
     "text": [
      "a) 0.44\n",
      "b) 0.15\n",
      "c) 0.1364\n",
      "d) 0.1059\n",
      "e) 0.0225\n",
      "f) 0.0025\n"
     ]
    }
   ],
   "source": [
    "print('a)',0.38+0.06)\n",
    "print('b)',0.06+0.02+0.01+0.06)\n",
    "print('c)',(0.06/(0.06+0.38)).__round__(4))\n",
    "print('d)',(0.09/(0.34+0.09+0.04+0.38)).__round__(4))\n",
    "print('e)',(0.06+0.02+0.01+0.06)**2)\n",
    "print('f)',((0.04+0.01)**2).__round__(4))\n"
   ]
  },
  {
   "cell_type": "markdown",
   "metadata": {},
   "source": [
    "35. El Departamento de Estadística Laboral de Estados Unidos reúne datos sobre las ocupaciones de las personas entre 25 y 64 años. La tabla siguiente presenta el número de hombres y mujeres (en millones) en cada una de las categorías ocupacionales.\n",
    "\n",
    "(Gráfico en página 170)\n",
    "\n",
    "- a. Desarrolle una tabla de probabilidad conjunta.\n",
    "- b. ¿Cuál es la probabilidad de que un trabajador mujer sea directivo o profesional?\n",
    "- c. ¿Cuál es la probabilidad de que un trabajador hombre esté en producción con precisión?\n",
    "- d. ¿Es la ocupación independiente del género? Justifique su respuesta con el cálculo de la probabilidad."
   ]
  },
  {
   "cell_type": "markdown",
   "metadata": {},
   "source": [
    "                                        H   M\n",
    "Directivo                           19 079 19 021\n",
    "Enseñanza/Ventas/ Administrativo    11 079 19 315\n",
    "Servicio                             4 977  7 947\n",
    "Producción con precisión            11 682  1 138\n",
    "Operadores/Obrero                   10 576  3 482\n",
    "Agricultura/Ganadería/               1 838    514"
   ]
  },
  {
   "cell_type": "code",
   "execution_count": 52,
   "metadata": {},
   "outputs": [
    {
     "data": {
      "text/html": [
       "<div>\n",
       "<style scoped>\n",
       "    .dataframe tbody tr th:only-of-type {\n",
       "        vertical-align: middle;\n",
       "    }\n",
       "\n",
       "    .dataframe tbody tr th {\n",
       "        vertical-align: top;\n",
       "    }\n",
       "\n",
       "    .dataframe thead th {\n",
       "        text-align: right;\n",
       "    }\n",
       "</style>\n",
       "<table border=\"1\" class=\"dataframe\">\n",
       "  <thead>\n",
       "    <tr style=\"text-align: right;\">\n",
       "      <th></th>\n",
       "      <th>Hombres</th>\n",
       "      <th>Mujeres</th>\n",
       "      <th>Total</th>\n",
       "    </tr>\n",
       "  </thead>\n",
       "  <tbody>\n",
       "    <tr>\n",
       "      <th>Directivo/Profesional</th>\n",
       "      <td>0.172430</td>\n",
       "      <td>0.171906</td>\n",
       "      <td>0.344335</td>\n",
       "    </tr>\n",
       "    <tr>\n",
       "      <th>Enseñanza/Ventas/Administrativo</th>\n",
       "      <td>0.100128</td>\n",
       "      <td>0.174563</td>\n",
       "      <td>0.274691</td>\n",
       "    </tr>\n",
       "    <tr>\n",
       "      <th>Servicio</th>\n",
       "      <td>0.044980</td>\n",
       "      <td>0.071822</td>\n",
       "      <td>0.116803</td>\n",
       "    </tr>\n",
       "    <tr>\n",
       "      <th>Producción con precisión</th>\n",
       "      <td>0.105578</td>\n",
       "      <td>0.010285</td>\n",
       "      <td>0.115863</td>\n",
       "    </tr>\n",
       "    <tr>\n",
       "      <th>Operador/Obrero</th>\n",
       "      <td>0.095582</td>\n",
       "      <td>0.031469</td>\n",
       "      <td>0.127052</td>\n",
       "    </tr>\n",
       "    <tr>\n",
       "      <th>Agricultura/Ganadería/Pesca</th>\n",
       "      <td>0.016611</td>\n",
       "      <td>0.004645</td>\n",
       "      <td>0.021257</td>\n",
       "    </tr>\n",
       "    <tr>\n",
       "      <th>Total</th>\n",
       "      <td>0.535310</td>\n",
       "      <td>0.464690</td>\n",
       "      <td>1.000000</td>\n",
       "    </tr>\n",
       "  </tbody>\n",
       "</table>\n",
       "</div>"
      ],
      "text/plain": [
       "                                  Hombres   Mujeres     Total\n",
       "Directivo/Profesional            0.172430  0.171906  0.344335\n",
       "Enseñanza/Ventas/Administrativo  0.100128  0.174563  0.274691\n",
       "Servicio                         0.044980  0.071822  0.116803\n",
       "Producción con precisión         0.105578  0.010285  0.115863\n",
       "Operador/Obrero                  0.095582  0.031469  0.127052\n",
       "Agricultura/Ganadería/Pesca      0.016611  0.004645  0.021257\n",
       "Total                            0.535310  0.464690  1.000000"
      ]
     },
     "execution_count": 52,
     "metadata": {},
     "output_type": "execute_result"
    }
   ],
   "source": [
    "df_o = pd.DataFrame([[19079,19021],[11079,19315],[4977,7947],[11682,1138],[10576,3482],[1838,514], [0,0]],\\\n",
    "    index=['Directivo/Profesional','Enseñanza/Ventas/Administrativo','Servicio','Producción con precisión','Operador/Obrero','Agricultura/Ganadería/Pesca','Total'],\\\n",
    "                    columns=['Hombres','Mujeres'])\n",
    "df_o.loc['Total'] = [df_o.Hombres.sum(),df_o.Mujeres.sum()]\n",
    "df_o['Total']= df_o.Hombres + df_o.Mujeres\n",
    "df_o = df_o/df_o.Total[6]\n",
    "df_o"
   ]
  },
  {
   "cell_type": "code",
   "execution_count": 59,
   "metadata": {},
   "outputs": [
    {
     "name": "stdout",
     "output_type": "stream",
     "text": [
      "b) 0.4992\n",
      "c) 0.9112\n",
      "d) Independencia: P(A ∩ B) = P(A)*P(B)\n",
      "   P(A ∩ B) = 0.1056, P(A) = 0.1159, P(B) = 0.5353\n",
      "   Son independientes: False\n"
     ]
    }
   ],
   "source": [
    "print('b)', (df_o.Mujeres[0]/df_o.Total[0]).round(4))\n",
    "print('c)', (df_o.Hombres[3]/df_o.Total[3]).round(4))\n",
    "print(f'''d) Independencia: P(A ∩ B) = P(A)*P(B)\n",
    "   P(A ∩ B) = {df_o.Hombres[3].round(4)}, P(A) = {df_o.Total[3].round(4)}, P(B) = {df_o.Hombres[6].round(4)}\n",
    "   Son independientes: {df_o.Hombres[3] == df_o.Total[3]*df_o.Hombres[6]}''')"
   ]
  },
  {
   "cell_type": "markdown",
   "metadata": {},
   "source": [
    "36. Reggie Miller de los Indiana Pacers tiene el record de la National Basketball Association de máscanastas de 3 puntos anotadas en toda una carrera, acertando en 89% de sus tiros (USA Today, 22 de enero de 2004). Suponga que ya casi al final de un juego cometen una falta contra él y le conceden dos tiros.\n",
    "\n",
    "- a. ¿Cuál es la probabilidad de que acierte en los dos tiros?\n",
    "- b. ¿De que acierte en por lo menos uno de los dos tiros?\n",
    "- c. ¿De que no acierte en ninguno de los dos tiros?\n",
    "- d. Al final de un juego de básquetbol suele ocurrir que cometan faltas contra un jugador del equipo opuesto para detener el reloj del juego. La estrategia usual es cometer una falta contra el peor tirador del otro equipo. Suponga que el centro de los Indiana Pacers acierta 58% de sus tiros. Calcule para él las probabilidades calculadas en los incisos a, b y c y muestre que hacer una falta intencional contra el centro de los Indiana Pacers es mejor que hacerlo contra Reggie Miller."
   ]
  },
  {
   "cell_type": "code",
   "execution_count": 69,
   "metadata": {},
   "outputs": [
    {
     "name": "stdout",
     "output_type": "stream",
     "text": [
      "a) 0.7921\n",
      "b) 0.9879\n",
      "c) 0.0121\n",
      "d) Ambos tiros: 0.3364, al menos uno: 0.8236, fallar ambos: 0.1764\n"
     ]
    }
   ],
   "source": [
    "print('a)', (0.89**2).__round__(4))\n",
    "print('b)', (1 - 0.11**2).__round__(4))\n",
    "print('c)', (0.11**2).__round__(4))\n",
    "print(f'd) Ambos tiros: {(0.58**2).__round__(4)}, al menos uno: {(1 - 0.42**2).__round__(4)}, fallar ambos: {(0.42**2).__round__(4)}')"
   ]
  },
  {
   "cell_type": "markdown",
   "metadata": {},
   "source": [
    "37. Visa Card de Estados Unidos estudia con qué frecuencia usan sus tarjetas (de débito y de crédito) los consumidores jóvenes, entre 18 y 24 años. Los resultados del estudio proporcionan las probabilidades siguientes.\n",
    "\n",
    "• La probabilidad de que un consumidor use su tarjeta al hacer una compra es 0.37.\n",
    "\n",
    "• Dado que un consumidor usa su tarjeta, la probabilidad de que tenga entre 18 y 24 años es 0.19.\n",
    "\n",
    "• Puesto que un consumidor usa su tarjeta, la probabilidad de que sea mayor de 24 años es 0.81.\n",
    "\n",
    "Datos de la Oficina de Censos de Estados Unidos indican que 14% de los consumidores tienen entre 18 y 24 años.\n",
    "\n",
    "- a. Ya que un consumidor tiene entre 18 y 24 años, ¿cuál es la probabilidad de que use su tarjeta?\n",
    "- b. Dado que un consumidor tiene más de 24 años, ¿cuál es la probabilidad de que use su tarjeta?\n",
    "- c. ¿Qué interpretación se le da a las probabilidades de los incisos a y b?\n",
    "- d. ¿Empresas como Visa, Master Card y Discover deben proporcionar tarjetas a los consumidores entre 18 y 24 años, antes de que tengan una historia crediticia? Si no, explique. Si sí, ¿qué restricciones deben poner las empresas a estos consumidores?"
   ]
  },
  {
   "cell_type": "markdown",
   "metadata": {},
   "source": [
    "38. En un estudio de Morgan Stanley Consumer Research se muestrearon hombres y mujeres y se les preguntó qué preferían tomar: agua de botella o una bebida deportiva como Gatorade o Propel Fitness (The Atlanta Journal-Constitution, 28 de diciembre de 2005). Suponga que en el estudio hayan participado 200 hombres y 200 mujeres y que de todos 280 hayan preferido el agua de botella. En el grupo de los que preferían bebidas deportivas, 80 eran hombres y 40 eran mujeres. Sea:\n",
    "\n",
    "M = el evento el consumidor es hombre\n",
    "\n",
    "W = el evento el consumidor es mujer\n",
    "\n",
    "B = el evento el consumidor prefiere agua de botella\n",
    "\n",
    "S = el evento el consumidor prefiere una bebida deportiva\n",
    "\n",
    "- a. ¿Cuál es la probabilidad de que en este estudio una persona prefiera agua de botella?\n",
    "- b. ¿De que en este estudio una persona prefiera una bebida deportiva?\n",
    "- c. ¿Cuáles son las probabilidades condicionales P(M | S) y P(W | S)?\n",
    "- d. ¿Cuáles son las probabilidades conjuntas P(M ∩ S) y P(W ∩ S)?\n",
    "- e. Dado que un consumidor es hombre, ¿cuál es la probabilidad de que prefiera una bebida deportiva?\n",
    "- f. Ya que un consumidor es mujer, ¿cuál es la probabilidad de que prefiera una bebida deportiva?\n",
    "- g. ¿Depende la preferencia por una bebida deportiva de que el consumidor sea hombre o mujer? Explique usando la información sobre las probabilidades."
   ]
  },
  {
   "cell_type": "markdown",
   "metadata": {},
   "source": [
    "39. Las probabilidades previas de los eventos A1 y A2 son P(A1) = 0.40 y P(A2) = 0.60. Sabe también que P(A1 ∩ A2) = 0. Suponga que P(B | A1) =  0.20 y P(B | A2) = 0.05.\n",
    "- a. ¿A1 y A2 son eventos mutuamente excluyentes? Explique.\n",
    "- b. Calcule P(A1 ∩ B) y P(A2 ∩ B).\n",
    "- c. Calcule P(B).\n",
    "- d. Emplee el teorema de Bayes para calcular P(A1 | B) y P(A2 | B)."
   ]
  },
  {
   "cell_type": "markdown",
   "metadata": {},
   "source": [
    "40. Las probabilidades previas de los eventos A1, A2 y A3 son P(A1) = 0.20, P(A2) = 0.50 y P(A3) = 0.30. Las probabilidades condicionales del evento B dados los eventos A1,A2 y A3 son P(B | A1) = 0.50, P(B | A2) = 0.40 y P(B | A3) = 0.30.\n",
    "- a. Calcule P(B ∩ A1), P(B ∩ A2) y P(B ∩ A3).\n",
    "- b. Emplee el teorema de Bayes, ecuación (4.19), para calcular la probabilidad posterior P(A2 | B).\n",
    "- c. Use el método tabular para emplear el teorema de Bayes en el cálculo de P(A1 | B), P(A2 | B) y P(A3 | B)."
   ]
  }
 ],
 "metadata": {
  "kernelspec": {
   "display_name": "Python 3.10.5 64-bit",
   "language": "python",
   "name": "python3"
  },
  "language_info": {
   "codemirror_mode": {
    "name": "ipython",
    "version": 3
   },
   "file_extension": ".py",
   "mimetype": "text/x-python",
   "name": "python",
   "nbconvert_exporter": "python",
   "pygments_lexer": "ipython3",
   "version": "3.10.5"
  },
  "orig_nbformat": 4,
  "vscode": {
   "interpreter": {
    "hash": "8030d4c8b54922542ddcca872d6eaa3b90843e3fd85d80bb02c262de6532e63b"
   }
  }
 },
 "nbformat": 4,
 "nbformat_minor": 2
}
