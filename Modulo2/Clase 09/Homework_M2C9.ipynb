{
 "cells": [
  {
   "cell_type": "markdown",
   "metadata": {},
   "source": [
    "### Homework\n",
    "\n",
    "* 1 - Bajar el CSV de Oferta Gastronómica desde Buenos Aires Data (https://data.buenosaires.gob.ar/dataset/). Idealmente hacer esto con Python."
   ]
  },
  {
   "cell_type": "code",
   "execution_count": 1,
   "metadata": {},
   "outputs": [],
   "source": [
    "import pymysql\n",
    "import urllib.request\n",
    "from Pass_SQL import contraseña"
   ]
  },
  {
   "cell_type": "code",
   "execution_count": 2,
   "metadata": {},
   "outputs": [],
   "source": [
    "archivo = urllib.request.urlopen('https://cdn.buenosaires.gob.ar/datosabiertos/datasets/ente-de-turismo/oferta-establecimientos-gastronomicos/oferta_gastronomica.csv')"
   ]
  },
  {
   "cell_type": "markdown",
   "metadata": {},
   "source": [
    "* 2 - Crear una tabla con los siguientes campos: id_local, nombre, categoria, direccion, barrio, comuna, para posteriormente poblarla con los datos bajados, utilzando el conector desde el script de Python."
   ]
  },
  {
   "cell_type": "code",
   "execution_count": 3,
   "metadata": {},
   "outputs": [],
   "source": [
    "# Hay campos en el archivo que tienen comillas, y en el medio una coma que debemos dejar. Esto nos va a dificultar la separación de campos\n",
    "next(archivo) #Salteamos el header\n",
    "lista_locales = [] #Fabricamos la lista vacía\n",
    "for linea in archivo:\n",
    "    linea = linea.decode().replace(',','|') #Leemos cada línea con decode, y reemplazamos , por |, porque algunas las vamos a necesitar luego\n",
    "    while linea.find('\"') != -1: #Buscamos las comillas, que son los campos que deben quedar con ,. Si da -1 es porque no hay\n",
    "        pos1 = linea.find('\"') #Buscamos la posición de la comilla\n",
    "        pos2 = linea.find('\"', pos1+1) #Buscamos la posición de la segunda comilla, para obtener el substring\n",
    "        linea = linea[:pos1] + linea[pos1:pos2+1].replace('|',',').replace('\"', '') + linea[pos2+1:]\n",
    "        '''En esa linea se hacen varias cosas, se toma el string previo a las comillas, luego se agrega el substring que estaba entre comillas\n",
    "        quitandole el | y devolviendole la , y también se quitan las comillas, y se agrega el resto del string.\n",
    "        Esto se va a repetir si se vuelven a encontrar comillas, por el while'''\n",
    "    lista_locales.append(tuple(linea.strip().split('|'))) #Se agregan los campos limpios como una tupla a la lista, obteniendo lista de tuplas"
   ]
  },
  {
   "cell_type": "code",
   "execution_count": 31,
   "metadata": {},
   "outputs": [],
   "source": [
    "#Otra opción, que viene mejor parseada y nos ahorra trabajo\n",
    "import requests, io, csv\n",
    "documento = requests.get('https://cdn.buenosaires.gob.ar/datosabiertos/datasets/ente-de-turismo/oferta-establecimientos-gastronomicos/oferta_gastronomica.csv')\n",
    "documento.encoding = 'utf-8'\n",
    "documento = csv.reader(io.StringIO(documento.text))\n",
    "next(documento)\n",
    "lista_locales = [tuple(linea) for linea in documento]"
   ]
  },
  {
   "cell_type": "code",
   "execution_count": 32,
   "metadata": {},
   "outputs": [],
   "source": [
    "conexion = pymysql.connect(\n",
    "    host = 'localhost',\n",
    "    user = 'root',\n",
    "    password = contraseña(),\n",
    "    port = 3306,\n",
    "    database = 'Oferta_gastronomica'\n",
    ")\n",
    "cursor = conexion.cursor()"
   ]
  },
  {
   "cell_type": "markdown",
   "metadata": {},
   "source": [
    "En esta tabla \"locales\" metimos solo las columnas pedidas, como string"
   ]
  },
  {
   "cell_type": "code",
   "execution_count": 33,
   "metadata": {},
   "outputs": [],
   "source": [
    "lista_corta = []\n",
    "for elem in lista_locales:\n",
    "    lista_corta.append(((elem[3],elem[4],elem[13],elem[14],elem[15][7:])))"
   ]
  },
  {
   "cell_type": "code",
   "execution_count": 14,
   "metadata": {},
   "outputs": [],
   "source": [
    "cursor.executemany('''INSERT INTO locales (nombre,categoria,direccion,barrio,comuna)\n",
    "                      VALUES (%s, %s, %s, %s, %s)''', lista_corta)\n",
    "conexion.commit()"
   ]
  },
  {
   "cell_type": "markdown",
   "metadata": {},
   "source": [
    "* 3 - A partir de tener los datos disponibles, responder a las siguientes preguntas:\n",
    "\n",
    "  * a) ¿Cuál es el barrio con mayor cantidad de Pubs?\n",
    "  * b) Obtener la cantidad de locales por categoría\n",
    "  * c) Obtener la cantidad de restaurantes por comuna"
   ]
  },
  {
   "cell_type": "code",
   "execution_count": 35,
   "metadata": {},
   "outputs": [
    {
     "data": {
      "text/plain": [
       "(('Recoleta', 'PUB', 8),)"
      ]
     },
     "execution_count": 35,
     "metadata": {},
     "output_type": "execute_result"
    }
   ],
   "source": [
    "# A ¿Cuál es el barrio con mayor cantidad de Pubs?\n",
    "cursor.execute(\"\"\"SELECT barrio, categoria, count(*) as Cantidad\n",
    "                  FROM locales\n",
    "                  GROUP BY 1, 2\n",
    "                  HAVING categoria = 'PUB'\n",
    "                  ORDER BY Cantidad DESC;\"\"\")\n",
    "cursor.fetchmany(1)"
   ]
  },
  {
   "cell_type": "code",
   "execution_count": 16,
   "metadata": {},
   "outputs": [
    {
     "data": {
      "text/plain": [
       "(('RESTAURANTE', 1990),\n",
       " ('VINERIA', 22),\n",
       " ('CAFE', 334),\n",
       " ('BAR', 247),\n",
       " ('', 116),\n",
       " ('PUB', 53),\n",
       " ('CONFITERIA', 55),\n",
       " ('SANDWICHERIA', 4),\n",
       " ('DELIVERY & TAKE AWAY', 2))"
      ]
     },
     "execution_count": 16,
     "metadata": {},
     "output_type": "execute_result"
    }
   ],
   "source": [
    "# B Obtener la cantidad de locales por categoría\n",
    "cursor.execute(\"\"\"SELECT categoria, count(*) as Cantidad_locales\n",
    "                  FROM locales\n",
    "                  GROUP BY 1;\"\"\")\n",
    "cursor.fetchall()"
   ]
  },
  {
   "cell_type": "code",
   "execution_count": 36,
   "metadata": {},
   "outputs": [
    {
     "data": {
      "text/plain": [
       "((1, 609),\n",
       " (14, 366),\n",
       " (2, 227),\n",
       " (3, 145),\n",
       " (13, 108),\n",
       " (4, 95),\n",
       " (6, 87),\n",
       " (7, 64),\n",
       " (15, 57),\n",
       " (5, 56),\n",
       " (9, 52),\n",
       " (10, 43),\n",
       " (12, 42),\n",
       " (11, 33),\n",
       " (8, 6))"
      ]
     },
     "execution_count": 36,
     "metadata": {},
     "output_type": "execute_result"
    }
   ],
   "source": [
    "# C) Obtener la cantidad de restaurantes por comuna\n",
    "cursor.execute('''SELECT comuna, count(*) as Cantidad_restaurantes\n",
    "                  FROM locales\n",
    "                  WHERE categoria like '%RESTAURANTE%'\n",
    "                  GROUP BY 1\n",
    "                  ORDER BY 2 DESC;''')\n",
    "cursor.fetchall()"
   ]
  },
  {
   "cell_type": "code",
   "execution_count": 37,
   "metadata": {},
   "outputs": [],
   "source": [
    "conexion.close()"
   ]
  }
 ],
 "metadata": {
  "kernelspec": {
   "display_name": "Python 3.10.5 64-bit",
   "language": "python",
   "name": "python3"
  },
  "language_info": {
   "codemirror_mode": {
    "name": "ipython",
    "version": 3
   },
   "file_extension": ".py",
   "mimetype": "text/x-python",
   "name": "python",
   "nbconvert_exporter": "python",
   "pygments_lexer": "ipython3",
   "version": "3.10.5"
  },
  "orig_nbformat": 4,
  "vscode": {
   "interpreter": {
    "hash": "8030d4c8b54922542ddcca872d6eaa3b90843e3fd85d80bb02c262de6532e63b"
   }
  }
 },
 "nbformat": 4,
 "nbformat_minor": 2
}
