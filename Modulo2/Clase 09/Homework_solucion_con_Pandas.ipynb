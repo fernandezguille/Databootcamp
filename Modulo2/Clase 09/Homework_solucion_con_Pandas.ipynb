{
 "cells": [
  {
   "cell_type": "markdown",
   "metadata": {},
   "source": [
    "### Homework\n",
    "\n",
    "* 1 - Bajar el CSV de Oferta Gastronómica desde Buenos Aires Data (https://data.buenosaires.gob.ar/dataset/). Idealmente hacer esto con Python.\n",
    "* 2 - Crear una tabla con los siguientes campos: id_local, nombre, categoria, direccion, barrio, comuna, para posteriormente poblarla con los datos bajados, utilzando el conector desde el script de Python.\n",
    "* 3 - A partir de tener los datos disponibles, responder a las siguientes preguntas:\n",
    "\n",
    "  * a) ¿Cuál es el barrio con mayor cantidad de Pubs?\n",
    "  * b) Obtener la cantidad de locales por categoría\n",
    "  * c) Obtener la cantidad de restaurantes por comuna"
   ]
  },
  {
   "cell_type": "code",
   "execution_count": 1,
   "metadata": {},
   "outputs": [],
   "source": [
    "import pandas as pd\n",
    "import numpy as np\n",
    "import pymysql, requests, io\n",
    "from Pass_SQL import contraseña"
   ]
  },
  {
   "cell_type": "markdown",
   "metadata": {},
   "source": [
    "### 1) Request Dataframe locales gastronomicos BA\n",
    "Se usa la libreria requests y los metodos .get(URL) y .text  \n"
   ]
  },
  {
   "cell_type": "code",
   "execution_count": 3,
   "metadata": {},
   "outputs": [],
   "source": [
    "respuesta = requests.get('https://cdn.buenosaires.gob.ar/datosabiertos/datasets/ente-de-turismo/oferta-establecimientos-gastronomicos/oferta_gastronomica.csv')\n",
    "df_locales = pd.read_csv(io.StringIO(respuesta.text))"
   ]
  },
  {
   "cell_type": "code",
   "execution_count": 5,
   "metadata": {},
   "outputs": [],
   "source": [
    "#Reemplazo valores nan por None\n",
    "df_locales.replace(np.nan, None, inplace=True)"
   ]
  },
  {
   "cell_type": "code",
   "execution_count": 6,
   "metadata": {},
   "outputs": [],
   "source": [
    "campos = ['nombre','categoria','direccion_completa','barrio','comuna']\n",
    "lista_locales = [tuple(df_locales[campos].loc[fila]) for fila in range(0,len(df_locales))]"
   ]
  },
  {
   "cell_type": "markdown",
   "metadata": {},
   "source": [
    "### 2) Conexión a MySQL e ingreso de datos\n",
    "Se usa la libreria pymysql, se crea la conexión y el cursos. Luego se ejecutan las queries y commit"
   ]
  },
  {
   "cell_type": "code",
   "execution_count": 7,
   "metadata": {},
   "outputs": [],
   "source": [
    "#CONEXION\n",
    "conexion = pymysql.connect(\n",
    "    host = 'localhost',\n",
    "    user = 'root',\n",
    "    password = contraseña(),\n",
    "    port = 3306,\n",
    "    database = 'Oferta_gastronomica'\n",
    ")\n",
    "#CURSOR\n",
    "cursor = conexion.cursor()"
   ]
  },
  {
   "cell_type": "code",
   "execution_count": null,
   "metadata": {},
   "outputs": [],
   "source": [
    "#INSERCIÓN DE FILAS EN TABLA locales y COMMIT\n",
    "cursor.executemany('''INSERT INTO locales (nombre,categoria,direccion,barrio,comuna) \n",
    "                      VALUES (%s,%s,%s,%s,%s)''',lista_locales)\n",
    "conexion.commit()"
   ]
  },
  {
   "cell_type": "markdown",
   "metadata": {},
   "source": [
    "* 3 - A partir de tener los datos disponibles, responder a las siguientes preguntas:\n",
    "\n",
    "  * a) ¿Cuál es el barrio con mayor cantidad de Pubs?\n",
    "  * b) Obtener la cantidad de locales por categoría\n",
    "  * c) Obtener la cantidad de restaurantes por comuna"
   ]
  },
  {
   "cell_type": "code",
   "execution_count": null,
   "metadata": {},
   "outputs": [],
   "source": [
    "# a) Barrio con mayor cantidad de pubs -->\n",
    "cursor.execute(\"\"\"SELECT barrio, categoria, count(*) as Cantidad\n",
    "                  FROM locales\n",
    "                  GROUP BY barrio\n",
    "                  HAVING categoria = 'PUB'\n",
    "                  ORDER BY Cantidad DESC;\"\"\")\n",
    "cursor.fetchall()"
   ]
  },
  {
   "cell_type": "code",
   "execution_count": null,
   "metadata": {},
   "outputs": [],
   "source": [
    "# b) Cantidad de locales por categoría --> \n",
    "cursor.execute(\"\"\"SELECT categoria, count(*) as Cantidad_locales\n",
    "                  FROM locales\n",
    "                  GROUP BY categoria;\"\"\")\n",
    "cursor.fetchall()"
   ]
  },
  {
   "cell_type": "code",
   "execution_count": null,
   "metadata": {},
   "outputs": [],
   "source": [
    "# c) Obtener la cantidad de restaurantes por comuna -->\n",
    "cursor.execute('''SELECT comuna, count(*) as Cantidad_restaurantes\n",
    "                  FROM locales\n",
    "                  WHERE categoria like '%RESTAURANTE%'\n",
    "                  GROUP BY comuna\n",
    "                  ORDER BY Cantidad_restaurantes DESC;''')\n",
    "cursor.fetchall()"
   ]
  },
  {
   "cell_type": "code",
   "execution_count": null,
   "metadata": {},
   "outputs": [],
   "source": [
    "conexion.close()"
   ]
  }
 ],
 "metadata": {
  "kernelspec": {
   "display_name": "Python 3.10.5 64-bit",
   "language": "python",
   "name": "python3"
  },
  "language_info": {
   "codemirror_mode": {
    "name": "ipython",
    "version": 3
   },
   "file_extension": ".py",
   "mimetype": "text/x-python",
   "name": "python",
   "nbconvert_exporter": "python",
   "pygments_lexer": "ipython3",
   "version": "3.10.5"
  },
  "orig_nbformat": 4,
  "vscode": {
   "interpreter": {
    "hash": "8030d4c8b54922542ddcca872d6eaa3b90843e3fd85d80bb02c262de6532e63b"
   }
  }
 },
 "nbformat": 4,
 "nbformat_minor": 2
}
