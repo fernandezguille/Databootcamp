{
 "cells": [
  {
   "cell_type": "markdown",
   "metadata": {},
   "source": [
    "# Práctica Clase 1 "
   ]
  },
  {
   "cell_type": "markdown",
   "metadata": {},
   "source": [
    "1) Crear una función capaz de convertir números enteros de base 10 a base 2. Debe recibir como parámetro el número a convertir<br>\n",
    "Consideraciones:<br> \n",
    "a. Tratar de resolverlo sin usar la función format(nro,\"b\")<br>\n",
    "b. El pdf \"conversion-de-decimal-a-binario.pdf\" puede servir de ayuda.\n"
   ]
  },
  {
   "cell_type": "code",
   "execution_count": 2,
   "metadata": {},
   "outputs": [],
   "source": [
    "def NumeroBinario(numero):\n",
    "    '''\n",
    "    Esta función recibe como parámetro un número entero mayor ó igual a cero y lo devuelve en su \n",
    "    representación binaria. Debe recibir y devolver un valor de tipo entero.\n",
    "    En caso de que el parámetro no sea de tipo entero y mayor a -1 retorna nulo.\n",
    "    '''\n",
    "    if type(numero) != int or numero < 0: return None\n",
    "    elif numero == 0: return 0\n",
    "    resultado = \"\"\n",
    "    while numero:\n",
    "        resultado = str(numero % 2) + resultado\n",
    "        numero //= 2\n",
    "    return int(resultado)"
   ]
  },
  {
   "cell_type": "code",
   "execution_count": 3,
   "metadata": {},
   "outputs": [
    {
     "data": {
      "text/plain": [
       "11101"
      ]
     },
     "execution_count": 3,
     "metadata": {},
     "output_type": "execute_result"
    }
   ],
   "source": [
    "#Ejemplo:\n",
    "NumeroBinario(29)"
   ]
  },
  {
   "cell_type": "markdown",
   "metadata": {},
   "source": [
    "2) Convertir de decimal a binario las fracciones 1/2, 1/3, 1/4, 1/5, 1/6, 1/7, 1/8, 1/9. Luego analizar los resultados y observar qué particularidad se encuentra en los mismos. Se puede usar Python o una calculadora, lo importante es ver si hay algo que podemos notar..."
   ]
  },
  {
   "cell_type": "markdown",
   "metadata": {},
   "source": [
    "Salida esperada:\n",
    "* Fraccion 1 / 2 :  0.5  y En binario:  0.1\n",
    "* Fraccion 1 / 3 :  0.3333333333333333  y En binario:  0.010101010101010101010101\n",
    "* Fraccion 1 / 4 :  0.25  y En binario:  0.01\n",
    "* Fraccion 1 / 5 :  0.2  y En binario:  0.001100110011001100110011\n",
    "* Fraccion 1 / 6 :  0.16666666666666666  y En binario:  0.001010101010101010101010\n",
    "* Fraccion 1 / 7 :  0.14285714285714285  y En binario:  0.001001001001001001001001\n",
    "* Fraccion 1 / 8 :  0.125  y En binario:  0.001\n",
    "* Fraccion 1 / 9 :  0.1111111111111111  y En binario:  0.000111000111000111000111"
   ]
  },
  {
   "cell_type": "code",
   "execution_count": 11,
   "metadata": {},
   "outputs": [],
   "source": [
    "def Conversor_decimal(decimal):\n",
    "    if type(decimal) != float or decimal < 0: return None\n",
    "    resultado = \"0.\"\n",
    "    while decimal:\n",
    "        resultado += str(int(decimal * 2))\n",
    "        decimal = decimal * 2 - int(decimal * 2)\n",
    "    return float(resultado[:18])"
   ]
  },
  {
   "cell_type": "code",
   "execution_count": 12,
   "metadata": {},
   "outputs": [
    {
     "name": "stdout",
     "output_type": "stream",
     "text": [
      "Fracción 1 / 2: 0.5 y en binario: 0.1\n",
      "Fracción 1 / 3: 0.3333333333333333 y en binario: 0.0101010101010101\n",
      "Fracción 1 / 4: 0.25 y en binario: 0.01\n",
      "Fracción 1 / 5: 0.2 y en binario: 0.0011001100110011\n",
      "Fracción 1 / 6: 0.16666666666666666 y en binario: 0.00101010101010101\n",
      "Fracción 1 / 7: 0.14285714285714285 y en binario: 0.001001001001001001\n",
      "Fracción 1 / 8: 0.125 y en binario: 0.001\n",
      "Fracción 1 / 9: 0.1111111111111111 y en binario: 0.000111000111000111\n"
     ]
    }
   ],
   "source": [
    "for i in range(2,10):\n",
    "     print(f\"Fracción 1 / {i}: {1/i} y en binario: {Conversor_decimal(1/i)}\")"
   ]
  },
  {
   "cell_type": "code",
   "execution_count": 10,
   "metadata": {},
   "outputs": [],
   "source": [
    "def conversor(numero):\n",
    "    resultado = \"\"\n",
    "    entero = int(numero)\n",
    "    decimal = numero - entero\n",
    "    iteracion = 0\n",
    "    if entero > 0:\n",
    "        while entero:\n",
    "            resultado = str(entero % 2) + resultado\n",
    "            entero //= 2\n",
    "    else: resultado = \"0\"\n",
    "    if decimal > 0:\n",
    "        resultado += \".\"\n",
    "        while decimal != 0 and iteracion <16:\n",
    "            resultado += str(int(decimal * 2))\n",
    "            decimal = decimal * 2 - int(decimal * 2)\n",
    "            iteracion += 1\n",
    "    return float(resultado)"
   ]
  },
  {
   "cell_type": "code",
   "execution_count": 9,
   "metadata": {},
   "outputs": [
    {
     "name": "stdout",
     "output_type": "stream",
     "text": [
      "El numero 5.0 en binario se representa: 101.0\n",
      "El numero 3.3333333333333335 en binario se representa: 11.01010101010101\n",
      "El numero 2.5 en binario se representa: 10.1\n",
      "El numero 2.0 en binario se representa: 10.0\n",
      "El numero 1.6666666666666667 en binario se representa: 1.101010101010101\n",
      "El numero 1.4285714285714286 en binario se representa: 1.011011011011011\n",
      "El numero 1.25 en binario se representa: 1.01\n",
      "El numero 1.1111111111111112 en binario se representa: 1.000111000111\n",
      "El numero 1.0 en binario se representa: 1.0\n",
      "El numero 0.9090909090909091 en binario se representa: 0.111010001011101\n",
      "El numero 0.8333333333333334 en binario se representa: 0.1101010101010101\n",
      "El numero 0.7692307692307693 en binario se representa: 0.11000100111011\n",
      "El numero 0.7142857142857143 en binario se representa: 0.1011011011011011\n",
      "El numero 0.6666666666666666 en binario se representa: 0.10101010101010101\n",
      "El numero 0.625 en binario se representa: 0.101\n",
      "El numero 0.5882352941176471 en binario se representa: 0.10010110100101101\n",
      "El numero 0.5555555555555556 en binario se representa: 0.10001110001110002\n",
      "El numero 0.5263157894736842 en binario se representa: 0.10000110101111001\n",
      "El numero 0.5 en binario se representa: 0.1\n"
     ]
    }
   ],
   "source": [
    "for i in range(2,21):\n",
    "    print(f\"El numero {10/i} en binario se representa: {conversor(10/i)}\")"
   ]
  }
 ],
 "metadata": {
  "kernelspec": {
   "display_name": "Python 3.10.5 64-bit",
   "language": "python",
   "name": "python3"
  },
  "language_info": {
   "codemirror_mode": {
    "name": "ipython",
    "version": 3
   },
   "file_extension": ".py",
   "mimetype": "text/x-python",
   "name": "python",
   "nbconvert_exporter": "python",
   "pygments_lexer": "ipython3",
   "version": "3.10.5"
  },
  "orig_nbformat": 4,
  "vscode": {
   "interpreter": {
    "hash": "8030d4c8b54922542ddcca872d6eaa3b90843e3fd85d80bb02c262de6532e63b"
   }
  }
 },
 "nbformat": 4,
 "nbformat_minor": 2
}
