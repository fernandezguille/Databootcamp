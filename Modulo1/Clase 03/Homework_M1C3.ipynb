{
 "cells": [
  {
   "cell_type": "markdown",
   "metadata": {},
   "source": [
    "# Práctica Clase 3"
   ]
  },
  {
   "cell_type": "markdown",
   "metadata": {
    "slideshow": {
     "slide_type": "slide"
    }
   },
   "source": [
    "## Numpy"
   ]
  },
  {
   "cell_type": "code",
   "execution_count": null,
   "metadata": {},
   "outputs": [],
   "source": [
    "import numpy as np"
   ]
  },
  {
   "cell_type": "markdown",
   "metadata": {},
   "source": [
    "**Ejercicio 1**: Responder las siguientes preguntas:\n",
    "* ¿Qué operaciones se pueden hacer tanto en un arreglo de Numpy como en una lista? Dar un ejemplo en una celda.\n",
    "* ¿Qué operaciones se pueden hacer en un arreglo de Numpy pero NO en una lista? Explorar algunas opciones y dar un ejemplo en una celda.\n",
    "* ¿Cuál es la diferencia entre un arreglo de forma -shape- (n,), (n,1) y (1,n)? Pueden crear arreglos para intentar responder esa pregunta."
   ]
  },
  {
   "cell_type": "markdown",
   "metadata": {},
   "source": [
    "A partir de una lista podemos crear un arreglo de numpy"
   ]
  },
  {
   "cell_type": "code",
   "execution_count": null,
   "metadata": {},
   "outputs": [],
   "source": [
    "lista = [0,1,2,3,4,5]\n",
    "arreglo = np.array(lista)\n",
    "print(lista)\n",
    "print(arreglo)"
   ]
  },
  {
   "cell_type": "code",
   "execution_count": null,
   "metadata": {},
   "outputs": [],
   "source": [
    "#Slicing, sirve en ambos\n",
    "print(lista[:3])\n",
    "print(arreglo[:3])"
   ]
  },
  {
   "cell_type": "markdown",
   "metadata": {},
   "source": [
    "Pero para algunos casos numpy tiene funciones que crean listas más rápidamente."
   ]
  },
  {
   "cell_type": "code",
   "execution_count": null,
   "metadata": {},
   "outputs": [],
   "source": [
    "arreglo1 = np.arange(8)\n",
    "print(arreglo1)"
   ]
  },
  {
   "cell_type": "markdown",
   "metadata": {},
   "source": [
    "Algunas cosas que se pueden hacer con arreglos pero no con las listas:\n",
    "\n",
    "1. Sumarle un mismo elemento"
   ]
  },
  {
   "cell_type": "code",
   "execution_count": null,
   "metadata": {},
   "outputs": [],
   "source": [
    "#No se puede con listas\n",
    "lista + 1"
   ]
  },
  {
   "cell_type": "code",
   "execution_count": null,
   "metadata": {},
   "outputs": [],
   "source": [
    "#Si se puede con Np\n",
    "arreglo = arreglo - 1"
   ]
  },
  {
   "cell_type": "code",
   "execution_count": null,
   "metadata": {},
   "outputs": [],
   "source": [
    "print(arreglo)"
   ]
  },
  {
   "cell_type": "markdown",
   "metadata": {},
   "source": [
    "2. Elevar al cuadrado todos los elementos"
   ]
  },
  {
   "cell_type": "code",
   "execution_count": null,
   "metadata": {},
   "outputs": [],
   "source": [
    "lista**2"
   ]
  },
  {
   "cell_type": "code",
   "execution_count": null,
   "metadata": {},
   "outputs": [],
   "source": [
    "arreglo**2"
   ]
  },
  {
   "cell_type": "markdown",
   "metadata": {},
   "source": [
    "3. Sumar todos los elementos"
   ]
  },
  {
   "cell_type": "code",
   "execution_count": null,
   "metadata": {},
   "outputs": [],
   "source": [
    "print(arreglo.sum())\n",
    "print(sum(lista))"
   ]
  },
  {
   "cell_type": "code",
   "execution_count": null,
   "metadata": {},
   "outputs": [],
   "source": [
    "n = 0\n",
    "for e in lista:\n",
    "    n = n + e\n",
    "print(n)"
   ]
  },
  {
   "cell_type": "code",
   "execution_count": null,
   "metadata": {},
   "outputs": [],
   "source": [
    "arreglo1.shape"
   ]
  },
  {
   "cell_type": "code",
   "execution_count": null,
   "metadata": {},
   "outputs": [],
   "source": [
    "arreglo = np.array([[1,2,3,4,5,6],[1,2,3,4,5,6],[1,2,3,4,5,6]]) #notar los corchetes extras\n",
    "print(arreglo,'. Shape =', arreglo.shape, \"\\n\")"
   ]
  },
  {
   "cell_type": "code",
   "execution_count": null,
   "metadata": {},
   "outputs": [],
   "source": [
    "arreglo = np.array([[1,2,3,4,5,6]]) #notar los corchetes extras\n",
    "print(arreglo,'. Shape =', arreglo.shape, \"\\n\")"
   ]
  },
  {
   "cell_type": "code",
   "execution_count": null,
   "metadata": {},
   "outputs": [],
   "source": [
    "arreglo = np.array([[1,2,3,4,5,6]]).T #notar los corchetes extras\n",
    "print(arreglo,'. Shape =', arreglo.shape, \"\\n\")"
   ]
  },
  {
   "cell_type": "code",
   "execution_count": null,
   "metadata": {},
   "outputs": [],
   "source": [
    "#¿Cuál es la diferencia entre un arreglo de forma -shape- (n,), (n,1) y (1,n)?\n",
    "\n",
    "print('Arreglo de (n,)')\n",
    "arreglo = np.array([1,2,3,4,5,6])\n",
    "print(arreglo,'. Shape =', arreglo.shape, \"\\n\") # \"\\n\" imprime un salto de linea\n",
    "\n",
    "print('Arreglo de (2,n)')\n",
    "arreglo = np.array([[1,2,3,4,5,6],[1,2,3,4,5,6]]) #notar los corchetes extras\n",
    "print(arreglo,'. Shape =', arreglo.shape, \"\\n\")\n",
    "\n",
    "print('Arreglo de (n,1)')\n",
    "arreglo = np.array([[1,2,3,4,5,6]]) #notar los corchetes extras\n",
    "print(arreglo.T,'. Shape =', arreglo.T.shape, \"\\n\")   #notar .T, que significa transpuesto\n"
   ]
  },
  {
   "cell_type": "markdown",
   "metadata": {},
   "source": [
    "(n,) es un arreglo unidimensional de n elementos\n",
    "(n,m) es una matriz de n filas y m columnas"
   ]
  },
  {
   "cell_type": "code",
   "execution_count": null,
   "metadata": {},
   "outputs": [],
   "source": [
    "### EXTRA 1###\n",
    "#Trasponer no es la unica forma de crear un arreglo de forma (n,1)'''\n",
    "arreglo = np.array([[1],[2],[3],[4],[5],[6]]) #notar los corchetes extras\n",
    "print(arreglo,'. Shape =', arreglo.shape)   #notar .T, que significa transpuesto"
   ]
  },
  {
   "cell_type": "code",
   "execution_count": null,
   "metadata": {},
   "outputs": [],
   "source": [
    "a1 = np.array([[1,2,3,4],[5,6,7,8]])\n",
    "a1.shape"
   ]
  },
  {
   "cell_type": "code",
   "execution_count": null,
   "metadata": {},
   "outputs": [],
   "source": [
    "a2 = np.array([[1,2,3,4],[5,6,7,8]])\n",
    "a2.shape"
   ]
  },
  {
   "cell_type": "code",
   "execution_count": null,
   "metadata": {},
   "outputs": [],
   "source": [
    "a3 = a1 * a2\n",
    "a3.shape"
   ]
  },
  {
   "cell_type": "code",
   "execution_count": null,
   "metadata": {},
   "outputs": [],
   "source": [
    "a3"
   ]
  },
  {
   "cell_type": "markdown",
   "metadata": {},
   "source": [
    "**Ejercicio 2**:\n",
    "* Escribir un arreglo con números enteros del 0 al 9. Pista: arange\n",
    "* Escribir un arreglo con 100 números equiespaciados del 0 al 9. Pista: linspace"
   ]
  },
  {
   "cell_type": "code",
   "execution_count": null,
   "metadata": {},
   "outputs": [],
   "source": [
    "arreglo = np.arange(10)\n",
    "print(arreglo)\n",
    "arreglo = np.linspace(0,10,100)\n",
    "print(arreglo)"
   ]
  },
  {
   "cell_type": "markdown",
   "metadata": {},
   "source": [
    "**Ejercicio 3**:\n",
    "* Escribir un arreglo con números enteros del 10 al 100 y seleccionar aquellos que son divisibles por 3<br>\n",
    "Pista: mask"
   ]
  },
  {
   "cell_type": "code",
   "execution_count": 20,
   "metadata": {},
   "outputs": [
    {
     "name": "stdout",
     "output_type": "stream",
     "text": [
      "[ 10  11  12  13  14  15  16  17  18  19  20  21  22  23  24  25  26  27\n",
      "  28  29  30  31  32  33  34  35  36  37  38  39  40  41  42  43  44  45\n",
      "  46  47  48  49  50  51  52  53  54  55  56  57  58  59  60  61  62  63\n",
      "  64  65  66  67  68  69  70  71  72  73  74  75  76  77  78  79  80  81\n",
      "  82  83  84  85  86  87  88  89  90  91  92  93  94  95  96  97  98  99\n",
      " 100]\n",
      "[12 15 18 21 24 27 30 33 36 39 42 45 48 51 54 57 60 63 66 69 72 75 78 81\n",
      " 84 87 90 93 96 99]\n"
     ]
    }
   ],
   "source": [
    "arreglo = np.arange(10,101)\n",
    "print(arreglo)\n",
    "mask = arreglo % 3 == 0\n",
    "print(arreglo[mask])"
   ]
  },
  {
   "cell_type": "markdown",
   "metadata": {},
   "source": [
    "**Ejercicio 4**:\n",
    "* Crear un arreglo de ceros de `shape` (5,10).\n",
    "* Reemplazar la segunda y cuarta fila con unos\n",
    "* Reemplazar la tercera y octava columna con dos (2)."
   ]
  },
  {
   "cell_type": "code",
   "execution_count": 22,
   "metadata": {},
   "outputs": [
    {
     "name": "stdout",
     "output_type": "stream",
     "text": [
      "[[0. 0. 0. 0. 0. 0. 0. 0. 0. 0.]\n",
      " [0. 0. 0. 0. 0. 0. 0. 0. 0. 0.]\n",
      " [0. 0. 0. 0. 0. 0. 0. 0. 0. 0.]\n",
      " [0. 0. 0. 0. 0. 0. 0. 0. 0. 0.]\n",
      " [0. 0. 0. 0. 0. 0. 0. 0. 0. 0.]]\n",
      "[[0. 0. 2. 0. 0. 0. 0. 2. 0. 0.]\n",
      " [1. 1. 2. 1. 1. 1. 1. 2. 1. 1.]\n",
      " [0. 0. 2. 0. 0. 0. 0. 2. 0. 0.]\n",
      " [1. 1. 2. 1. 1. 1. 1. 2. 1. 1.]\n",
      " [0. 0. 2. 0. 0. 0. 0. 2. 0. 0.]]\n"
     ]
    }
   ],
   "source": [
    "arreglo = np.zeros((5,10))\n",
    "print(arreglo)\n",
    "arreglo[(1,3),:] = 1\n",
    "arreglo[:,(2,7)] = 2\n",
    "print(arreglo)"
   ]
  },
  {
   "cell_type": "markdown",
   "metadata": {},
   "source": [
    "**Ejercicio $\\infty$**:\n",
    "Hacer todos los ejercicios que puedan del siguiente link https://www.machinelearningplus.com/python/101-numpy-exercises-python/\n",
    "\n",
    "O de https://github.com/rougier/numpy-100"
   ]
  },
  {
   "cell_type": "markdown",
   "metadata": {},
   "source": [
    "Para explorar las funciones de creación de datos aleatorios:\n",
    "https://numpy.org/doc/stable/reference/random/legacy.html"
   ]
  },
  {
   "cell_type": "code",
   "execution_count": 21,
   "metadata": {},
   "outputs": [
    {
     "data": {
      "text/plain": [
       "array([[[43.38516797,  2.7660291 , 62.14262605],\n",
       "        [57.15258654,  7.73626289, 21.71999119]],\n",
       "\n",
       "       [[33.23524504, 94.38468915,  2.21938814],\n",
       "        [ 0.98008524, 66.15144718, 63.49859615]],\n",
       "\n",
       "       [[58.69671451,  7.57875895, 28.81355694],\n",
       "        [40.76700131, 28.65031874, 66.81237266]],\n",
       "\n",
       "       [[14.17205678, 91.17479759, 71.06925926],\n",
       "        [58.20732746, 81.19202587,  6.58420268]]])"
      ]
     },
     "execution_count": 21,
     "metadata": {},
     "output_type": "execute_result"
    }
   ],
   "source": [
    "a = np.random.random((4,2,3)) * 100\n",
    "a"
   ]
  },
  {
   "cell_type": "code",
   "execution_count": null,
   "metadata": {},
   "outputs": [],
   "source": [
    "a = np.array([[10,200,30,45,5,50],[5,20,30,40,50,0],[5,20,30,40,50,0],[5,20,30,40,50,0]], dtype=np.int8)"
   ]
  },
  {
   "cell_type": "code",
   "execution_count": null,
   "metadata": {},
   "outputs": [],
   "source": [
    "a.sum()"
   ]
  },
  {
   "cell_type": "code",
   "execution_count": null,
   "metadata": {},
   "outputs": [],
   "source": [
    "a.std()"
   ]
  },
  {
   "cell_type": "code",
   "execution_count": null,
   "metadata": {},
   "outputs": [],
   "source": [
    "a.sort(axis=1)"
   ]
  },
  {
   "cell_type": "code",
   "execution_count": null,
   "metadata": {},
   "outputs": [],
   "source": [
    "a.sort(axis=0)\n",
    "a"
   ]
  },
  {
   "cell_type": "code",
   "execution_count": null,
   "metadata": {},
   "outputs": [],
   "source": [
    "a[1:3,0:3]"
   ]
  },
  {
   "cell_type": "code",
   "execution_count": null,
   "metadata": {},
   "outputs": [],
   "source": [
    "l =   [[ 10, 200,  30,  45,   5, 100],\n",
    "       [  5,  20,  30,  40,  50,   0],\n",
    "       [  5,  20,  30,  40,  50,   0],\n",
    "       [  5,  20,  30,  40,  50,   0]]"
   ]
  },
  {
   "cell_type": "code",
   "execution_count": null,
   "metadata": {},
   "outputs": [],
   "source": [
    "a = np.array([l])"
   ]
  },
  {
   "cell_type": "code",
   "execution_count": null,
   "metadata": {},
   "outputs": [],
   "source": [
    "a.shape"
   ]
  },
  {
   "cell_type": "code",
   "execution_count": null,
   "metadata": {},
   "outputs": [],
   "source": [
    "a.reshape(24)"
   ]
  },
  {
   "cell_type": "code",
   "execution_count": null,
   "metadata": {},
   "outputs": [],
   "source": [
    "a = np.matrix([[1,2,3,4,5,6]]) \n",
    "print(a) "
   ]
  },
  {
   "cell_type": "code",
   "execution_count": null,
   "metadata": {},
   "outputs": [],
   "source": [
    "b = np.matrix([[1],[2],[3],[4],[5],[6]]) \n",
    "print(b) "
   ]
  },
  {
   "cell_type": "code",
   "execution_count": null,
   "metadata": {},
   "outputs": [],
   "source": [
    "c = a * b \n",
    "print(c) "
   ]
  },
  {
   "cell_type": "code",
   "execution_count": null,
   "metadata": {},
   "outputs": [],
   "source": [
    "d = b * a \n",
    "print(d)"
   ]
  }
 ],
 "metadata": {
  "kernelspec": {
   "display_name": "Python 3.10.5 64-bit",
   "language": "python",
   "name": "python3"
  },
  "language_info": {
   "codemirror_mode": {
    "name": "ipython",
    "version": 3
   },
   "file_extension": ".py",
   "mimetype": "text/x-python",
   "name": "python",
   "nbconvert_exporter": "python",
   "pygments_lexer": "ipython3",
   "version": "3.10.5"
  },
  "vscode": {
   "interpreter": {
    "hash": "8030d4c8b54922542ddcca872d6eaa3b90843e3fd85d80bb02c262de6532e63b"
   }
  }
 },
 "nbformat": 4,
 "nbformat_minor": 4
}
