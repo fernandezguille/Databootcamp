{
 "cells": [
  {
   "cell_type": "markdown",
   "metadata": {},
   "source": [
    "# Práctica Clase 7"
   ]
  },
  {
   "cell_type": "markdown",
   "metadata": {},
   "source": [
    "1) Diseñar una clase que permita trabajar con un árbol binario y que contenga los métodos:<br>\n",
    "    * insertaVal: para insertar un dato<br>\n",
    "    * buscaVal: que devuelva True o False si existe o no un dato<br>\n",
    "    * verVal: que imprima por pantalla los valores del árbol<br>\n",
    "\n",
    "Nota: Se puede utilizar la recursividad\n"
   ]
  },
  {
   "cell_type": "code",
   "execution_count": 1,
   "metadata": {},
   "outputs": [],
   "source": [
    "class Nodo():\n",
    "    def __init__(self, valor):\n",
    "        self.dato = valor\n",
    "        self.izq = None\n",
    "        self.der = None"
   ]
  },
  {
   "cell_type": "code",
   "execution_count": 34,
   "metadata": {},
   "outputs": [],
   "source": [
    "class Arbol():\n",
    "    def __init__(self):\n",
    "        self.raiz = None\n",
    "\n",
    "    def insertaVal(self, valor):\n",
    "        if type(valor) is not int: return \"Solo se pueden insertar nodos de tipo int\"\n",
    "        if (self.raiz == None):\n",
    "            self.raiz = Nodo(valor)\n",
    "            print(f\"ROOT: {self.raiz.dato}\")\n",
    "        else:\n",
    "            self.__insertaVal(self.raiz,valor)\n",
    "\n",
    "    def __insertaVal(self,puntero,valor):\n",
    "        if valor < puntero.dato:\n",
    "            if puntero.izq is None:\n",
    "                puntero.izq = Nodo(valor)\n",
    "                print(f\"{valor}  <---  {puntero.dato}\")\n",
    "            else:\n",
    "                self.__insertaVal(puntero.izq,valor)\n",
    "        elif valor > puntero.dato:\n",
    "            if puntero.der is None:\n",
    "                puntero.der = Nodo(valor)\n",
    "                print(f\"          {puntero.dato}  --->  {valor}\")\n",
    "            else:\n",
    "                self.__insertaVal(puntero.der,valor)\n",
    "    \n",
    "    def buscaVal(self,valor):\n",
    "        return self.__buscaVal(self.raiz,valor)\n",
    "\n",
    "    def __buscaVal(self,puntero,valor):\n",
    "            if puntero is None:\n",
    "                return False\n",
    "            elif valor == puntero.dato:\n",
    "                return True\n",
    "            elif valor < puntero.dato:\n",
    "                return self.__buscaVal(puntero.izq,valor)\n",
    "            else:\n",
    "                return self.__buscaVal(puntero.der,valor)\n",
    "    \n",
    "    # Opcion 1 Más visual\n",
    "    def verVal(self):\n",
    "        print(f'ROOT: {self.raiz.dato}')\n",
    "        self.__verVal(self.raiz)  \n",
    "\n",
    "    def __verVal(self,puntero):\n",
    "        if puntero.izq or puntero.der:\n",
    "            print(f\"{puntero.izq.dato if puntero.izq is not None else None}  <---  {puntero.dato}  --->  {puntero.der.dato if puntero.der is not None else None}\")\n",
    "        if puntero.izq: self.__verVal(puntero.izq)\n",
    "        if puntero.der: self.__verVal(puntero.der)\n",
    "\n",
    "    # Opcion 2 Ordenada ascendentemente\n",
    "    def verVal2(self):\n",
    "        print('Opción 2:')\n",
    "        self.__verVal2(self.raiz)\n",
    "\n",
    "    def __verVal2(self,puntero):\n",
    "        if puntero.izq: self.__verVal2(puntero.izq)\n",
    "        print(puntero.dato)\n",
    "        if puntero.der: self.__verVal2(puntero.der)"
   ]
  },
  {
   "cell_type": "code",
   "execution_count": 35,
   "metadata": {},
   "outputs": [
    {
     "name": "stdout",
     "output_type": "stream",
     "text": [
      "[17, 9, 5, 2, 7, 11, 3, 15, 16, 12, 18, 14, 4, 19, 8, 20, 10, 13, 6, 1]\n"
     ]
    }
   ],
   "source": [
    "import random as r\n",
    "nodos = list(r.sample(range(1,21),20))\n",
    "#nodos = [12, 4, 15, 18, 16, 9, 11, 7, 1, 8, 10, 14, 19, 5, 6, 2, 20, 17, 3, 13]\n",
    "print(nodos)"
   ]
  },
  {
   "cell_type": "code",
   "execution_count": 36,
   "metadata": {},
   "outputs": [
    {
     "name": "stdout",
     "output_type": "stream",
     "text": [
      "ROOT: 17\n",
      "9  <---  17\n",
      "5  <---  9\n",
      "2  <---  5\n",
      "          5  --->  7\n",
      "          9  --->  11\n",
      "          2  --->  3\n",
      "          11  --->  15\n",
      "          15  --->  16\n",
      "12  <---  15\n",
      "          17  --->  18\n",
      "          12  --->  14\n",
      "          3  --->  4\n",
      "          18  --->  19\n",
      "          7  --->  8\n",
      "          19  --->  20\n",
      "10  <---  11\n",
      "13  <---  14\n",
      "6  <---  7\n",
      "1  <---  2\n"
     ]
    }
   ],
   "source": [
    "a = Arbol()\n",
    "for i in nodos:\n",
    "    a.insertaVal(i)"
   ]
  },
  {
   "cell_type": "code",
   "execution_count": 37,
   "metadata": {},
   "outputs": [
    {
     "name": "stdout",
     "output_type": "stream",
     "text": [
      "ROOT: 17\n",
      "9  <---  17  --->  18\n",
      "5  <---  9  --->  11\n",
      "2  <---  5  --->  7\n",
      "1  <---  2  --->  3\n",
      "None  <---  3  --->  4\n",
      "6  <---  7  --->  8\n",
      "10  <---  11  --->  15\n",
      "12  <---  15  --->  16\n",
      "None  <---  12  --->  14\n",
      "13  <---  14  --->  None\n",
      "None  <---  18  --->  19\n",
      "None  <---  19  --->  20\n"
     ]
    }
   ],
   "source": [
    "a.verVal()"
   ]
  }
 ],
 "metadata": {
  "kernelspec": {
   "display_name": "Python 3.10.5 64-bit",
   "language": "python",
   "name": "python3"
  },
  "language_info": {
   "codemirror_mode": {
    "name": "ipython",
    "version": 3
   },
   "file_extension": ".py",
   "mimetype": "text/x-python",
   "name": "python",
   "nbconvert_exporter": "python",
   "pygments_lexer": "ipython3",
   "version": "3.10.5"
  },
  "vscode": {
   "interpreter": {
    "hash": "8030d4c8b54922542ddcca872d6eaa3b90843e3fd85d80bb02c262de6532e63b"
   }
  }
 },
 "nbformat": 4,
 "nbformat_minor": 4
}
