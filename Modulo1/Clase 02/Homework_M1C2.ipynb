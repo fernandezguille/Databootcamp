{
 "cells": [
  {
   "cell_type": "markdown",
   "metadata": {},
   "source": [
    "# Práctica Clase 2"
   ]
  },
  {
   "cell_type": "markdown",
   "metadata": {},
   "source": [
    "1) Abrir el archivo \"Emisiones_CO2.csv\" y cargar sus datos en un diccionario."
   ]
  },
  {
   "cell_type": "code",
   "execution_count": 3,
   "metadata": {},
   "outputs": [],
   "source": [
    "import os"
   ]
  },
  {
   "cell_type": "code",
   "execution_count": 4,
   "metadata": {},
   "outputs": [],
   "source": [
    "dicc_emisiones = {  'cod_pais' : [],\n",
    "                    'nom_pais' : [],\n",
    "                    'region' : [],\n",
    "                    'anio' : [],\n",
    "                    'co2' : [],\n",
    "                    'co2_percapita' : []}\n",
    "with open('emisiones.csv', 'r', encoding=\"utf8\") as archivo:\n",
    "    next(archivo, None)\n",
    "    for linea in archivo:\n",
    "        linea = linea.rstrip(\"\\n\")\n",
    "        listadedatos = linea.split(\"|\")\n",
    "        dicc_emisiones['cod_pais'].append(listadedatos[0])\n",
    "        dicc_emisiones['nom_pais'].append(listadedatos[1])\n",
    "        dicc_emisiones['region'].append(listadedatos[2])\n",
    "        dicc_emisiones['anio'].append(int(listadedatos[3]))\n",
    "        if listadedatos[4]:\n",
    "            listadedatos[4] = listadedatos[4].replace(\".\",\"\")\n",
    "            listadedatos[4] = listadedatos[4].replace(\",\",\".\")\n",
    "            dicc_emisiones['co2'].append(float(listadedatos[4]))\n",
    "        else:\n",
    "            dicc_emisiones['co2'].append(None)\n",
    "        if listadedatos[5]:\n",
    "            listadedatos[5] = listadedatos[5].replace(\",\",\".\")\n",
    "            dicc_emisiones['co2_percapita'].append(float(listadedatos[5]))\n",
    "        else:\n",
    "            dicc_emisiones['co2_percapita'].append(None)"
   ]
  },
  {
   "cell_type": "markdown",
   "metadata": {},
   "source": [
    "2) a) ¿Cuántas variables hay? <br>\n",
    "b) ¿Qué tipos de datos usar para cada una? <br>\n",
    "c) ¿Qué tipo de variables son? <br>\n",
    "d) ¿Hay valores faltantes? <br>\n",
    "e) ¿Cuál es el total de emisiones de CO2 para 'América Latina y Caribe' en el año 2010?"
   ]
  },
  {
   "cell_type": "code",
   "execution_count": 11,
   "metadata": {},
   "outputs": [
    {
     "name": "stdout",
     "output_type": "stream",
     "text": [
      "Hay 6 variables, y son: cod_pais, nom_pais, region, anio, co2, co2_percapita.\n"
     ]
    }
   ],
   "source": [
    "# a) ¿Cuántas variables hay?\n",
    "print(f\"Hay {len(dicc_emisiones)} variables, y son: {', '.join(dicc_emisiones.keys())}.\")"
   ]
  },
  {
   "cell_type": "code",
   "execution_count": 34,
   "metadata": {},
   "outputs": [
    {
     "name": "stdout",
     "output_type": "stream",
     "text": [
      "La variable cod_pais es del tipo <class 'str'>\n",
      "La variable nom_pais es del tipo <class 'str'>\n",
      "La variable region es del tipo <class 'str'>\n",
      "La variable anio es del tipo <class 'int'>\n",
      "La variable co2 es del tipo <class 'float'>\n",
      "La variable co2_percapita es del tipo <class 'float'>\n"
     ]
    }
   ],
   "source": [
    "# b) ¿Qué tipos de datos usar para cada una?\n",
    "for k,v in dicc_emisiones.items():\n",
    "    i=0\n",
    "    while v[i] is None:\n",
    "        i+=1\n",
    "    print(f\"La variable {k} es del tipo {type(v[i])}\")"
   ]
  },
  {
   "cell_type": "code",
   "execution_count": 17,
   "metadata": {},
   "outputs": [],
   "source": [
    "# c) ¿Qué tipo de variables son?\n",
    "# cualitativa categórica, cualitativa categórica, cualitativa categórica, cualitativa ordinal, cuantitativa continua, cuantitativa continua"
   ]
  },
  {
   "cell_type": "code",
   "execution_count": 32,
   "metadata": {},
   "outputs": [
    {
     "name": "stdout",
     "output_type": "stream",
     "text": [
      "A la variable cod_pais le faltan 0 datos\n",
      "A la variable nom_pais le faltan 0 datos\n",
      "A la variable region le faltan 0 datos\n",
      "A la variable anio le faltan 0 datos\n",
      "A la variable co2 le faltan 2095 datos\n",
      "A la variable co2_percapita le faltan 2098 datos\n"
     ]
    }
   ],
   "source": [
    "# d) ¿Hay valores faltantes?\n",
    "Valores_faltantes = [0,0,0,0,0,0]\n",
    "for i, v in enumerate(dicc_emisiones.values()):\n",
    "    for elemento in v: \n",
    "        if elemento is None: Valores_faltantes[i] +=1\n",
    "for i, k in enumerate(dicc_emisiones):\n",
    "    print(f\"A la variable {k} le faltan {Valores_faltantes[i]} datos\")\n"
   ]
  },
  {
   "cell_type": "code",
   "execution_count": 18,
   "metadata": {},
   "outputs": [],
   "source": []
  },
  {
   "cell_type": "code",
   "execution_count": 5,
   "metadata": {},
   "outputs": [
    {
     "name": "stdout",
     "output_type": "stream",
     "text": [
      "El total de emisiones de CO2 para América Latina y Caribe en 2010 fue de 1,691,634.801 kton\n"
     ]
    }
   ],
   "source": [
    "# e) ¿Cuál es el total de emisiones de CO2 para 'América Latina y Caribe' en el año 2010?\n",
    "total_emisiones = 0.0\n",
    "region = \"América Latina y Caribe\"\n",
    "anio = 2010\n",
    "for i, _ in enumerate(dicc_emisiones['region']):\n",
    "    if dicc_emisiones['region'][i] == region\\\n",
    "        and dicc_emisiones['anio'][i] == anio\\\n",
    "        and dicc_emisiones['co2'][i] != None:\n",
    "        total_emisiones += dicc_emisiones['co2'][i]\n",
    "total_emisiones = round(total_emisiones,3)\n",
    "print(f\"El total de emisiones de CO2 para {region} en {anio} fue de {total_emisiones:,} kton\")"
   ]
  }
 ],
 "metadata": {
  "kernelspec": {
   "display_name": "Python 3.10.5 64-bit",
   "language": "python",
   "name": "python3"
  },
  "language_info": {
   "codemirror_mode": {
    "name": "ipython",
    "version": 3
   },
   "file_extension": ".py",
   "mimetype": "text/x-python",
   "name": "python",
   "nbconvert_exporter": "python",
   "pygments_lexer": "ipython3",
   "version": "3.10.5"
  },
  "orig_nbformat": 4,
  "vscode": {
   "interpreter": {
    "hash": "8030d4c8b54922542ddcca872d6eaa3b90843e3fd85d80bb02c262de6532e63b"
   }
  }
 },
 "nbformat": 4,
 "nbformat_minor": 2
}
