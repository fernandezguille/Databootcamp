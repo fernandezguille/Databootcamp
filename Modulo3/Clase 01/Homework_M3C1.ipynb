{
 "cells": [
  {
   "cell_type": "markdown",
   "metadata": {},
   "source": [
    "## Homework\n",
    "\n",
    "A lo largo del módulo ustedes serán los analistas de datos de una compañía de venta de insumos tecnológicos al público. A lo largo de las prácticas se harán cargo de la información de la empresa y realizarán el proceso completo de captura, limpieza, análisis, diagnóstico, documentación, explotación y publicación de resultados.\n",
    "\n",
    "La Dirección de Ventas ha solicitado las siguientes tablas a Marketing con el fin de que sean integradas:\n",
    "\n",
    "* La tabla de puntos de venta propios, un Excel frecuentemente utilizado para contactar a cada sucursal, actualizada en 2021."
   ]
  },
  {
   "cell_type": "code",
   "execution_count": 1,
   "metadata": {},
   "outputs": [],
   "source": [
    "import numpy as np\n",
    "import pymysql, csv\n",
    "import pandas as pd\n",
    "from Pass_SQL import contraseña"
   ]
  },
  {
   "cell_type": "code",
   "execution_count": 2,
   "metadata": {},
   "outputs": [],
   "source": [
    "conexion = pymysql.connect(\n",
    "    host = 'localhost',\n",
    "    user = 'root',\n",
    "    password = contraseña(),\n",
    "    port = 3306,\n",
    ")\n",
    "cursor = conexion.cursor()"
   ]
  },
  {
   "cell_type": "code",
   "execution_count": null,
   "metadata": {},
   "outputs": [],
   "source": [
    "query = 'CREATE database Empresa;'\n",
    "cursor.execute(query)\n",
    "conexion.commit()"
   ]
  },
  {
   "cell_type": "code",
   "execution_count": 4,
   "metadata": {},
   "outputs": [],
   "source": [
    "query = 'Use Empresa;'\n",
    "cursor.execute(query)\n",
    "conexion.commit()"
   ]
  },
  {
   "cell_type": "code",
   "execution_count": null,
   "metadata": {},
   "outputs": [],
   "source": [
    "query = 'Drop Table sucursal;'\n",
    "cursor.execute(query)\n",
    "conexion.commit()"
   ]
  },
  {
   "cell_type": "code",
   "execution_count": null,
   "metadata": {},
   "outputs": [],
   "source": [
    "query = '''CREATE Table Sucursal (\n",
    "           ID int,\n",
    "           Sucursal varchar(20),\n",
    "           Direccion varchar(50),\n",
    "           Localidad varchar(25),\n",
    "           Provincia varchar(25),\n",
    "           Latitud varchar(12),\n",
    "           Longitud varchar(12)\n",
    "           );'''\n",
    "cursor.execute(query)\n",
    "conexion.commit()"
   ]
  },
  {
   "cell_type": "code",
   "execution_count": null,
   "metadata": {},
   "outputs": [],
   "source": [
    "with open(r'Homework\\Sucursales.csv', 'r', encoding='utf-8') as archivo:\n",
    "    archivo = csv.reader(archivo,delimiter=';')\n",
    "    next(archivo)\n",
    "    lista = [tuple(linea) for linea in archivo]"
   ]
  },
  {
   "cell_type": "code",
   "execution_count": null,
   "metadata": {},
   "outputs": [],
   "source": [
    "query = '''INSERT INTO Sucursal (ID,Sucursal,Direccion,Localidad,Provincia,Latitud,Longitud)\n",
    "           VALUES (%s, %s, %s, %s, %s, %s, %s)'''\n",
    "cursor.executemany(query, lista)\n",
    "conexion.commit()"
   ]
  },
  {
   "cell_type": "code",
   "execution_count": 5,
   "metadata": {},
   "outputs": [],
   "source": [
    "query = 'drop table Canal'\n",
    "cursor.execute(query)\n",
    "conexion.commit()"
   ]
  },
  {
   "cell_type": "code",
   "execution_count": 6,
   "metadata": {},
   "outputs": [],
   "source": [
    "query = '''CREATE Table Canal (\n",
    "           CODIGO int,\n",
    "           DESCRIPCION varchar(20)\n",
    "           );'''\n",
    "cursor.execute(query)\n",
    "conexion.commit()"
   ]
  },
  {
   "cell_type": "code",
   "execution_count": 7,
   "metadata": {},
   "outputs": [],
   "source": [
    "archivo = pd.read_excel(r'Homework\\Canaldeventa.xlsx')\n",
    "archivo.replace(np.NaN, \"\", inplace=True)\n",
    "lista = [tuple(archivo.loc[fila]) for fila in range(len(archivo))]"
   ]
  },
  {
   "cell_type": "code",
   "execution_count": 8,
   "metadata": {},
   "outputs": [],
   "source": [
    "query = '''INSERT INTO Canal (CODIGO,DESCRIPCION)\n",
    "           VALUES (%s, %s)'''\n",
    "cursor.executemany(query, lista)\n",
    "conexion.commit()"
   ]
  },
  {
   "cell_type": "markdown",
   "metadata": {},
   "source": [
    "* La tabla de empleados, un Excel mantenido por el personal administrativo de RRHH."
   ]
  },
  {
   "cell_type": "code",
   "execution_count": 9,
   "metadata": {},
   "outputs": [],
   "source": [
    "query = 'Drop Table Empleado;'\n",
    "cursor.execute(query)\n",
    "conexion.commit()"
   ]
  },
  {
   "cell_type": "code",
   "execution_count": 10,
   "metadata": {},
   "outputs": [],
   "source": [
    "query = '''CREATE Table Empleado (\n",
    "           ID_empleado int,\n",
    "           Apellido varchar(20),\n",
    "           Nombre varchar(20),\n",
    "           Sucursal varchar(25),\n",
    "           Sector varchar(20),\n",
    "           Cargo varchar(25),\n",
    "           Salario decimal(10,2)\n",
    "           );'''\n",
    "cursor.execute(query)\n",
    "conexion.commit()"
   ]
  },
  {
   "cell_type": "code",
   "execution_count": 11,
   "metadata": {},
   "outputs": [],
   "source": [
    "archivo = pd.read_excel(r'Homework\\Empleados.xls')\n",
    "archivo.replace(np.NaN, \"\", inplace=True)\n",
    "lista = [tuple(archivo.loc[fila]) for fila in range(len(archivo))]"
   ]
  },
  {
   "cell_type": "code",
   "execution_count": 12,
   "metadata": {},
   "outputs": [],
   "source": [
    "query = '''INSERT INTO Empleado (ID_empleado,Apellido,Nombre,Sucursal,Sector,Cargo,Salario)\n",
    "           VALUES (%s, %s, %s, %s, %s, %s, %s)'''\n",
    "cursor.executemany(query, lista)\n",
    "conexion.commit()"
   ]
  },
  {
   "cell_type": "markdown",
   "metadata": {},
   "source": [
    "* La tabla de proveedores, un Excel mantenido por un analista de otra dirección que ya no esta en la empresa. "
   ]
  },
  {
   "cell_type": "code",
   "execution_count": 13,
   "metadata": {},
   "outputs": [],
   "source": [
    "query = 'drop table Proveedor'\n",
    "cursor.execute(query)\n",
    "conexion.commit()"
   ]
  },
  {
   "cell_type": "code",
   "execution_count": 14,
   "metadata": {},
   "outputs": [],
   "source": [
    "query = '''CREATE Table Proveedor (\n",
    "           IDProveedor int,\n",
    "           Nombre varchar(30),\n",
    "           Adress varchar(35),\n",
    "           City varchar(30),\n",
    "           State varchar(25),\n",
    "           Country varchar(20),\n",
    "           departamen varchar(20)\n",
    "           );'''\n",
    "cursor.execute(query)\n",
    "conexion.commit()"
   ]
  },
  {
   "cell_type": "code",
   "execution_count": 15,
   "metadata": {},
   "outputs": [],
   "source": [
    "archivo = pd.read_excel(r'Homework\\Proveedores.xlsx')\n",
    "archivo.replace(np.NaN, \"\", inplace=True)\n",
    "lista = [tuple(archivo.loc[fila]) for fila in range(len(archivo))]"
   ]
  },
  {
   "cell_type": "code",
   "execution_count": 16,
   "metadata": {},
   "outputs": [],
   "source": [
    "query = '''INSERT INTO Proveedor (IDProveedor,Nombre,Adress,City,State,Country,departamen)\n",
    "           VALUES (%s, %s, %s, %s, %s, %s, %s)'''\n",
    "cursor.executemany(query, lista)\n",
    "conexion.commit()"
   ]
  },
  {
   "cell_type": "markdown",
   "metadata": {},
   "source": [
    "* La tabla de clientes, alojada en el CRM de la empresa."
   ]
  },
  {
   "cell_type": "code",
   "execution_count": 10,
   "metadata": {},
   "outputs": [],
   "source": [
    "query = 'drop table Cliente'\n",
    "cursor.execute(query)\n",
    "conexion.commit()"
   ]
  },
  {
   "cell_type": "code",
   "execution_count": 11,
   "metadata": {},
   "outputs": [],
   "source": [
    "query = '''CREATE Table Cliente (\n",
    "           ID int,\n",
    "           Provincia varchar(25),\n",
    "           Nombre_y_Apellido varchar(60),\n",
    "           Domicilio varchar(120),\n",
    "           Telefono varchar(25),\n",
    "           Edad int,\n",
    "           Localidad varchar(100),\n",
    "           X varchar(12),\n",
    "           Y varchar(12),\n",
    "           col10 varchar(5)\n",
    "           );'''\n",
    "cursor.execute(query)\n",
    "conexion.commit()"
   ]
  },
  {
   "cell_type": "code",
   "execution_count": 12,
   "metadata": {},
   "outputs": [],
   "source": [
    "with open(r'Homework\\Clientes.csv', 'r', encoding='utf-8') as archivo:\n",
    "    archivo = csv.reader(archivo,delimiter=';')\n",
    "    next(archivo)\n",
    "    lista = [tuple(linea) for linea in archivo]"
   ]
  },
  {
   "cell_type": "code",
   "execution_count": 13,
   "metadata": {},
   "outputs": [],
   "source": [
    "query = '''INSERT INTO Cliente (ID,Provincia,Nombre_y_Apellido,Domicilio,Telefono,Edad,Localidad,X,Y,col10)\n",
    "           VALUES (%s, %s, %s, %s, %s, %s, %s, %s, %s, %s)'''\n",
    "cursor.executemany(query, lista)\n",
    "conexion.commit()"
   ]
  },
  {
   "cell_type": "markdown",
   "metadata": {},
   "source": [
    "* La tabla de productos, un Excel mantenido por otro analista."
   ]
  },
  {
   "cell_type": "code",
   "execution_count": 17,
   "metadata": {},
   "outputs": [],
   "source": [
    "query = 'drop table Producto'\n",
    "cursor.execute(query)\n",
    "conexion.commit()"
   ]
  },
  {
   "cell_type": "code",
   "execution_count": 18,
   "metadata": {},
   "outputs": [],
   "source": [
    "query = '''CREATE Table Producto (\n",
    "           ID_PRODUCTO int,\n",
    "           Concepto varchar(125),\n",
    "           Tipo varchar(20),\n",
    "           Precio varchar(20)\n",
    "           );'''\n",
    "cursor.execute(query)\n",
    "conexion.commit()"
   ]
  },
  {
   "cell_type": "code",
   "execution_count": 19,
   "metadata": {},
   "outputs": [],
   "source": [
    "archivo = pd.read_excel(r'Homework\\PRODUCTOS.xlsx')\n",
    "archivo.replace(np.NaN, \"\", inplace=True)\n",
    "lista = [tuple(archivo.loc[fila]) for fila in range(len(archivo))]"
   ]
  },
  {
   "cell_type": "code",
   "execution_count": 20,
   "metadata": {},
   "outputs": [],
   "source": [
    "query = '''INSERT INTO Producto (ID_PRODUCTO,Concepto,Tipo,Precio)\n",
    "           VALUES (%s, %s, %s, %s)'''\n",
    "cursor.executemany(query, lista)\n",
    "conexion.commit()"
   ]
  },
  {
   "cell_type": "markdown",
   "metadata": {},
   "source": [
    "* Las tablas de ventas, gastos y compras, tres archivos CSV generados a partir del sistema transaccional de la empresa."
   ]
  },
  {
   "cell_type": "code",
   "execution_count": 126,
   "metadata": {},
   "outputs": [],
   "source": [
    "query = 'drop table Venta'\n",
    "cursor.execute(query)\n",
    "conexion.commit()"
   ]
  },
  {
   "cell_type": "code",
   "execution_count": 127,
   "metadata": {},
   "outputs": [],
   "source": [
    "query = '''CREATE Table Venta (\n",
    "           IdVenta int,\n",
    "           Fecha date,\n",
    "           Fecha_Entrega date,\n",
    "           IdCanal int,\n",
    "           IdCliente int,\n",
    "           IdSucursal int,\n",
    "           IdEmpleado int,\n",
    "           IdProducto int,\n",
    "           Precio varchar(10),\n",
    "           Cantidad varchar(10)\n",
    "           );'''\n",
    "cursor.execute(query)\n",
    "conexion.commit()"
   ]
  },
  {
   "cell_type": "code",
   "execution_count": 121,
   "metadata": {},
   "outputs": [],
   "source": [
    "with open(r'Homework\\Venta.csv', 'r', encoding='utf-8') as archivo:\n",
    "    archivo = csv.reader(archivo,delimiter=',')\n",
    "    next(archivo)\n",
    "    lista = [tuple(linea) for linea in archivo]"
   ]
  },
  {
   "cell_type": "code",
   "execution_count": 128,
   "metadata": {},
   "outputs": [],
   "source": [
    "query = '''INSERT INTO Venta (IdVenta,Fecha,Fecha_Entrega,IdCanal,IdCliente,IdSucursal,IdEmpleado,IdProducto,Precio,Cantidad)\n",
    "           VALUES (%s, %s, %s, %s, %s, %s, %s, %s, %s, %s)'''\n",
    "cursor.executemany(query, lista)\n",
    "conexion.commit()"
   ]
  },
  {
   "cell_type": "code",
   "execution_count": 26,
   "metadata": {},
   "outputs": [],
   "source": [
    "query = 'drop table Gasto'\n",
    "cursor.execute(query)\n",
    "conexion.commit()"
   ]
  },
  {
   "cell_type": "code",
   "execution_count": 27,
   "metadata": {},
   "outputs": [],
   "source": [
    "query = '''CREATE Table Gasto (\n",
    "           IdGasto int,\n",
    "           IdSucursal int,\n",
    "           IdTipoGasto int,\n",
    "           Fecha date,\n",
    "           Monto decimal(10,2)\n",
    "           );'''\n",
    "cursor.execute(query)\n",
    "conexion.commit()"
   ]
  },
  {
   "cell_type": "code",
   "execution_count": 28,
   "metadata": {},
   "outputs": [],
   "source": [
    "with open(r'Homework\\Gasto.csv', 'r', encoding='utf-8') as archivo:\n",
    "    archivo = csv.reader(archivo,delimiter=',')\n",
    "    next(archivo)\n",
    "    lista = [tuple(linea) for linea in archivo]"
   ]
  },
  {
   "cell_type": "code",
   "execution_count": 29,
   "metadata": {},
   "outputs": [],
   "source": [
    "query = '''INSERT INTO Gasto (IdGasto,IdSucursal,IdTipoGasto,Fecha,Monto)\n",
    "           VALUES (%s, %s, %s, %s, %s)'''\n",
    "cursor.executemany(query, lista)\n",
    "conexion.commit()"
   ]
  },
  {
   "cell_type": "code",
   "execution_count": 22,
   "metadata": {},
   "outputs": [],
   "source": [
    "query = 'drop table Compra'\n",
    "cursor.execute(query)\n",
    "conexion.commit()"
   ]
  },
  {
   "cell_type": "code",
   "execution_count": 23,
   "metadata": {},
   "outputs": [],
   "source": [
    "query = '''CREATE Table Compra (\n",
    "           IdCompra int,\n",
    "           Fecha date,\n",
    "           IdProducto int,\n",
    "           Cantidad int,\n",
    "           Precio decimal(10,2),\n",
    "           IdProveedor int\n",
    "           );'''\n",
    "cursor.execute(query)\n",
    "conexion.commit()"
   ]
  },
  {
   "cell_type": "code",
   "execution_count": 24,
   "metadata": {},
   "outputs": [],
   "source": [
    "with open(r'Homework\\Compra.csv', 'r', encoding='utf-8') as archivo:\n",
    "    archivo = csv.reader(archivo,delimiter=',')\n",
    "    next(archivo)\n",
    "    lista = [tuple(linea) for linea in archivo]"
   ]
  },
  {
   "cell_type": "code",
   "execution_count": 25,
   "metadata": {},
   "outputs": [],
   "source": [
    "query = '''INSERT INTO Compra (IdCompra,Fecha,IdProducto,Cantidad,Precio,IdProveedor)\n",
    "           VALUES (%s, %s, %s, %s, %s, %s)'''\n",
    "cursor.executemany(query, lista)\n",
    "conexion.commit()"
   ]
  },
  {
   "cell_type": "code",
   "execution_count": null,
   "metadata": {},
   "outputs": [],
   "source": [
    "query = 'drop table Tipo_Gasto'\n",
    "cursor.execute(query)\n",
    "conexion.commit()"
   ]
  },
  {
   "cell_type": "code",
   "execution_count": 7,
   "metadata": {},
   "outputs": [],
   "source": [
    "query = '''CREATE Table Tipo_Gasto (\n",
    "           IdTipoGasto int,\n",
    "           Descripcion varchar(20),\n",
    "           Monto_Aproximado int\n",
    "           );'''\n",
    "cursor.execute(query)\n",
    "conexion.commit()"
   ]
  },
  {
   "cell_type": "code",
   "execution_count": 8,
   "metadata": {},
   "outputs": [],
   "source": [
    "with open(r'Homework\\TiposDeGasto.csv', 'r', encoding='utf-8') as archivo:\n",
    "    archivo = csv.reader(archivo,delimiter=',')\n",
    "    next(archivo)\n",
    "    lista = [tuple(linea) for linea in archivo]"
   ]
  },
  {
   "cell_type": "code",
   "execution_count": 9,
   "metadata": {},
   "outputs": [],
   "source": [
    "query = '''INSERT INTO Tipo_Gasto (IdTipoGasto,Descripcion,Monto_Aproximado)\n",
    "           VALUES (%s, %s, %s)'''\n",
    "cursor.executemany(query, lista)\n",
    "conexion.commit()"
   ]
  },
  {
   "cell_type": "code",
   "execution_count": 21,
   "metadata": {},
   "outputs": [],
   "source": [
    "conexion.close()"
   ]
  }
 ],
 "metadata": {
  "kernelspec": {
   "display_name": "Python 3.10.5 64-bit",
   "language": "python",
   "name": "python3"
  },
  "language_info": {
   "codemirror_mode": {
    "name": "ipython",
    "version": 3
   },
   "file_extension": ".py",
   "mimetype": "text/x-python",
   "name": "python",
   "nbconvert_exporter": "python",
   "pygments_lexer": "ipython3",
   "version": "3.10.5"
  },
  "orig_nbformat": 4,
  "vscode": {
   "interpreter": {
    "hash": "8030d4c8b54922542ddcca872d6eaa3b90843e3fd85d80bb02c262de6532e63b"
   }
  }
 },
 "nbformat": 4,
 "nbformat_minor": 2
}
